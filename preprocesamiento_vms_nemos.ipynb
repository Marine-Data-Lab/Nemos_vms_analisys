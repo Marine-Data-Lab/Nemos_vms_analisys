{
 "cells": [
  {
   "cell_type": "code",
   "execution_count": 1,
   "metadata": {},
   "outputs": [],
   "source": [
    "import pandas as pd\n",
    "from pathlib import Path"
   ]
  },
  {
   "cell_type": "code",
   "execution_count": 4,
   "metadata": {},
   "outputs": [],
   "source": [
    "class ProcesadorDatosEmbarcaciones:\n",
    "    def __init__(self, directorio):\n",
    "        self.directorio = Path(directorio).resolve()\n",
    "\n",
    "    def listar_archivos_nemos(self):\n",
    "        # Listar archivos en el directorio especificado\n",
    "        return [archivo.as_posix() for archivo in self.directorio.iterdir() if archivo.is_file()]\n",
    "\n",
    "    def cargar_datos_nemos(self, lista_archivos):\n",
    "        # Leer archivos y concatenar en un único DataFrame\n",
    "        lista_dfs = [pd.read_csv(archivo) for archivo in lista_archivos]\n",
    "        return pd.concat(lista_dfs, ignore_index=True)\n",
    "\n",
    "    def renombrar_columnas_nemos(self, df):\n",
    "        nuevo_nombre_columnas = {\n",
    "                    'Unique_id': 'ID_Unico',\n",
    "                    'Nave': 'Nombre_Embarcacion',\n",
    "                    'Referencia': 'Ref_Posicion',\n",
    "                    'Referenc_1': 'Ref_Auxiliar',\n",
    "                    'Longitud': 'Longitud',\n",
    "                    'Latitud': 'Latitud',\n",
    "                    'Fecha y ho': 'Fecha_Hora',\n",
    "                    'Fecha de l': 'Fecha_Log',\n",
    "                    'Hora de la': 'Hora_Log',\n",
    "                    'Marca de t': 'Tipo_Marca',\n",
    "                    'Marca de_1': 'Subtipo_Marca',\n",
    "                    'Guardar ma': 'Guardar_Marca',\n",
    "                    'Rumbo': 'Rumbo',\n",
    "                    'Rumbo prom': 'Rumbo_Promedio',\n",
    "                    'Velocidad': 'Velocidad',\n",
    "                    'Velocida_1': 'Velocidad_Promedio',\n",
    "                    'Referenc_2': 'Ref_Secundaria',\n",
    "                    'Dipoitivo': 'Dispositivo',\n",
    "                    'Retrasar l': 'Retraso_Local',\n",
    "                    'Dispositiv': 'Tipo_Dispositivo',\n",
    "                    'Retraso Pr': 'Retraso_Promedio',\n",
    "                    'Retraso re': 'Retraso_Reporte',\n",
    "                    'ID zona de': 'ID_Zona',\n",
    "                    'Dia': 'Dia',\n",
    "                    'Mes': 'Mes',\n",
    "                    'Anio': 'Anio',\n",
    "                    'Viaje': 'ID_Viaje',\n",
    "                    'Etapa': 'Etapa_Viaje',\n",
    "                    'Inicio de viaje': 'Inicio_Viaje',\n",
    "                    'Fin de viaje': 'Fin_Viaje',\n",
    "                    'Unique_ID': 'ID_Unico_Alterno',\n",
    "                    'Disposit_1': 'Detalle_Dispositivo',\n",
    "                    'Inicio de Viaje': 'Inicio_Viaje_Detalle',\n",
    "                    'Fin de Viaje': 'Fin_Viaje_Detalle'\n",
    "        }\n",
    "        return df.rename(columns=nuevo_nombre_columnas)\n",
    "\n",
    "    def convertir_datetime(self, df):\n",
    "        # Convertir columnas de fechas y horas a datetime\n",
    "        df['Fecha_Hora'] = pd.to_datetime(df['Fecha_Hora'], errors='coerce')\n",
    "        df['Fecha_Log'] = pd.to_datetime(df['Fecha_Log'], errors='coerce')\n",
    "        df['Hora_Log'] = pd.to_datetime('2000-01-01 ' + df['Hora_Log'].astype(str), format='%Y-%m-%d %H:%M:%S', errors='coerce')\n",
    "        return df\n",
    "    \n",
    "    def eliminar_columnas_vacias(self, df):\n",
    "        return df.dropna(axis=1, how='all')\n"
   ]
  },
  {
   "cell_type": "code",
   "execution_count": 5,
   "metadata": {},
   "outputs": [
    {
     "name": "stdout",
     "output_type": "stream",
     "text": [
      "   ID_Unico Nombre_Embarcacion  Ref_Posicion  Ref_Auxiliar  Longitud  \\\n",
      "0       1.0     704009_ATUNERA        704009        704009  -92.4653   \n",
      "1       2.0     704009_ATUNERA        704009        704009  -92.4652   \n",
      "2       3.0     704009_ATUNERA        704009        704009  -92.4652   \n",
      "3       4.0     704009_ATUNERA        704009        704009  -92.4652   \n",
      "4       5.0     704009_ATUNERA        704009        704009  -92.4656   \n",
      "\n",
      "    Latitud          Fecha_Hora  Fecha_Log     Guardar_Marca  Rumbo  ...  Dia  \\\n",
      "0  18.64470 2022-03-10 09:28:00 2022-03-10  03/10/2022 09:32    276  ...    3   \n",
      "1  18.64445 2022-03-10 09:31:00 2022-03-10  03/10/2022 09:32      0  ...    3   \n",
      "2  18.64480 2022-03-10 10:01:00 2022-03-10  03/10/2022 11:03      0  ...    3   \n",
      "3  18.64480 2022-03-10 10:16:00 2022-03-10  03/10/2022 11:03      0  ...    3   \n",
      "4  18.64460 2022-03-10 15:00:00 2022-03-10  03/10/2022 15:02      0  ...    3   \n",
      "\n",
      "   Mes  Anio  ID_Viaje  Etapa_Viaje  Inicio_Viaje  Fin_Viaje  \\\n",
      "0   10  2022       NaN       Amarre           NaN        NaN   \n",
      "1   10  2022       NaN       Amarre           NaN        NaN   \n",
      "2   10  2022       NaN       Amarre           NaN        NaN   \n",
      "3   10  2022       NaN       Amarre           NaN        NaN   \n",
      "4   10  2022       NaN       Amarre           NaN        NaN   \n",
      "\n",
      "   ID_Unico_Alterno  Inicio_Viaje_Detalle Fin_Viaje_Detalle  \n",
      "0               NaN                   NaN               NaN  \n",
      "1               NaN                   NaN               NaN  \n",
      "2               NaN                   NaN               NaN  \n",
      "3               NaN                   NaN               NaN  \n",
      "4               NaN                   NaN               NaN  \n",
      "\n",
      "[5 rows x 25 columns]\n"
     ]
    }
   ],
   "source": [
    "procesador = ProcesadorDatosEmbarcaciones('NEMOS')\n",
    "archivos = procesador.listar_archivos_nemos()\n",
    "df = procesador.cargar_datos_nemos(archivos)\n",
    "df_renombrado = procesador.renombrar_columnas_nemos(df)\n",
    "df_final = procesador.convertir_datetime(df_renombrado)\n",
    "df_final = procesador.eliminar_columnas_vacias(df_final)\n",
    "df.to_csv('vms_flota_nemo.csv',encoding='utf-8')"
   ]
  },
  {
   "cell_type": "code",
   "execution_count": 6,
   "metadata": {},
   "outputs": [],
   "source": []
  },
  {
   "cell_type": "code",
   "execution_count": null,
   "metadata": {},
   "outputs": [],
   "source": []
  }
 ],
 "metadata": {
  "kernelspec": {
   "display_name": "pro24",
   "language": "python",
   "name": "python3"
  },
  "language_info": {
   "codemirror_mode": {
    "name": "ipython",
    "version": 3
   },
   "file_extension": ".py",
   "mimetype": "text/x-python",
   "name": "python",
   "nbconvert_exporter": "python",
   "pygments_lexer": "ipython3",
   "version": "3.11.7"
  }
 },
 "nbformat": 4,
 "nbformat_minor": 2
}

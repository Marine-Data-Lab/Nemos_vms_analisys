{
 "cells": [
  {
   "cell_type": "code",
   "execution_count": 11,
   "metadata": {},
   "outputs": [],
   "source": [
    "import os\n",
    "import csv\n",
    "import pandas as pd\n",
    "import geopandas as gpd\n",
    "from shapely.geometry import Polygon\n",
    "\n",
    "def leer_puntos_desde_csv(archivo_csv):\n",
    "    \"\"\"\n",
    "    Lee un archivo CSV con puntos de latitud y longitud y prepara la lista de puntos para el polígono.\n",
    "\n",
    "    Parámetros:\n",
    "    - archivo_csv: Ruta del archivo CSV que contiene los puntos.\n",
    "\n",
    "    Retorna:\n",
    "    - Lista de tuplas (longitud, latitud) que representan los puntos del polígono.\n",
    "    \"\"\"\n",
    "    df = pd.read_csv(archivo_csv)\n",
    "    puntos = list(zip(df['Longitud'], df['Latitud']))\n",
    "    return puntos\n",
    "\n",
    "def leer_archivo(path):\n",
    "    \"\"\"Intentar leer el archivo con diferentes codificaciones.\"\"\"\n",
    "    try:\n",
    "        return pd.read_csv(path, encoding='utf-8', low_memory=False)\n",
    "    except UnicodeDecodeError:\n",
    "        try:\n",
    "            return pd.read_csv(path, encoding='latin1', low_memory=False)\n",
    "        except UnicodeDecodeError:\n",
    "            print(f\"Error leyendo el archivo {path} con 'utf-8' y 'latin1'.\")\n",
    "            return None\n",
    "\n",
    "def filtrar_por_poligono(df, puntos, crs=\"EPSG:4326\"):\n",
    "    \"\"\"Filtra el DataFrame por las coordenadas dentro de un polígono definido por una lista de tuplas (lat, lon).\"\"\"\n",
    "    \n",
    "    # Verificar si las columnas de longitud y latitud existen\n",
    "    if 'Longitud' not in df.columns or 'Latitud' not in df.columns:\n",
    "        raise ValueError(\"Las columnas 'Longitud' y 'Latitud' no se encuentran en el DataFrame.\")\n",
    "    \n",
    "    # Crear un polígono usando los puntos proporcionados\n",
    "    poligono = Polygon(puntos)  # Asume que 'puntos' es una lista de tuplas (lon, lat)\n",
    "    # Crear GeoDataFrame desde el DataFrame de entrada\n",
    "    gdf = gpd.GeoDataFrame(df, geometry=gpd.points_from_xy(df.Longitud, df.Latitud))\n",
    "    # Establecer el CRS para el GeoDataFrame\n",
    "    gdf.set_crs(crs, inplace=True)\n",
    "    \n",
    "    # Crear una GeoSerie para el polígono con el mismo CRS\n",
    "    poligono_gdf = gpd.GeoSeries([poligono], crs=crs)\n",
    "    # Filtrar los datos que están dentro del polígono\n",
    "    datos_filtrados = gdf[gdf.geometry.within(poligono_gdf.unary_union)]\n",
    "    \n",
    "    # Opcionalmente, convertir de nuevo a DataFrame normal eliminando la columna 'geometry'\n",
    "    datos_filtrados = datos_filtrados.drop(columns='geometry')\n",
    "    return datos_filtrados\n",
    "\n",
    "def procesar_archivo_filtrado(indice, path, carpeta_salida, poligono):\n",
    "    try:\n",
    "        # Corrige las rutas usando raw strings o dobles barras invertidas\n",
    "        base_path = r\"C:\\Users\\ricar\\OneDrive\\Documentos\\Proyectos\\Oceana\\proyecto\"\n",
    "        file_path = os.path.join(base_path, path)\n",
    "\n",
    "        if path.endswith('.csv'):\n",
    "            df = pd.read_csv(file_path)  # Asumiendo que existe una función pd.read_csv\n",
    "            if df is None:\n",
    "                return\n",
    "        elif path.endswith('.xlsx'):\n",
    "            df = pd.read_excel(file_path)\n",
    "        else:\n",
    "            print(f\"Archivo no compatible: {path}\")\n",
    "            return\n",
    "        \n",
    "        # Asumiendo que la función 'filtrar_por_poligono' está definida\n",
    "        df_filtrado = filtrar_por_poligono(df, poligono)\n",
    "        \n",
    "        if df_filtrado.empty:\n",
    "            print(f\"No se encontraron datos dentro del polígono para el archivo {path}.\")\n",
    "            return\n",
    "        \n",
    "        print(f\"Se encontraron {len(df_filtrado)} registros dentro del polígono para el archivo {path}.\")\n",
    "        \n",
    "        nombre_archivo = os.path.basename(path)\n",
    "        nombre_archivo_filtrado = f\"filtrado_{nombre_archivo}\"\n",
    "        output_path = os.path.join(carpeta_salida, nombre_archivo_filtrado)\n",
    "        if path.endswith('.csv'):\n",
    "            df_filtrado.to_csv(output_path, index=False, encoding='utf-8')\n",
    "        elif path.endswith('.xlsx'):\n",
    "            df_filtrado.to_excel(output_path, index=False)\n",
    "        \n",
    "        print(f\"Archivo filtrado y guardado: {output_path}\")\n",
    "    except Exception as e:\n",
    "        print(f\"Ocurrió un error al procesar el archivo: {str(e)}\")\n",
    "    \n",
    "    except Exception as e:\n",
    "        print(f\"Error procesando el archivo {path}: {e}\")\n",
    "\n",
    "def filtrar_archivos_por_poligono(archivo_lista_paths, carpeta_salida, puntos):\n",
    "    if not os.path.exists(carpeta_salida):\n",
    "        os.makedirs(carpeta_salida)\n",
    "    \n",
    "    # Crear el polígono irregular\n",
    "    poligono_irregular = Polygon(puntos)\n",
    "    \n",
    "    with open(archivo_lista_paths, mode='r') as file:\n",
    "        reader = csv.reader(file)\n",
    "        next(reader)\n",
    "        paths = [(indice, path) for indice, path in reader]\n",
    "    \n",
    "    for indice, path in paths:\n",
    "        procesar_archivo_filtrado(indice, path, carpeta_salida, poligono_irregular)\n",
    "\n",
    "\n"
   ]
  },
  {
   "cell_type": "code",
   "execution_count": 12,
   "metadata": {},
   "outputs": [
    {
     "name": "stderr",
     "output_type": "stream",
     "text": [
      "C:\\Users\\ricar\\AppData\\Local\\Temp\\ipykernel_66208\\1512343715.py:62: DtypeWarning: Columns (1) have mixed types. Specify dtype option on import or set low_memory=False.\n",
      "  df = pd.read_csv(file_path)  # Asumiendo que existe una función pd.read_csv\n"
     ]
    },
    {
     "name": "stdout",
     "output_type": "stream",
     "text": [
      "Se encontraron 34708 registros dentro del polígono para el archivo archivos_homogenizados\\01 - 01 -15 ENE  2023.csv.\n",
      "Archivo filtrado y guardado: archivos_filtrados\\filtrado_01 - 01 -15 ENE  2023.csv\n",
      "Se encontraron 34708 registros dentro del polígono para el archivo archivos_homogenizados\\01 - 01 -15 ENE  2023.xlsx.\n",
      "Archivo filtrado y guardado: archivos_filtrados\\filtrado_01 - 01 -15 ENE  2023.xlsx\n"
     ]
    },
    {
     "name": "stderr",
     "output_type": "stream",
     "text": [
      "C:\\Users\\ricar\\AppData\\Local\\Temp\\ipykernel_66208\\1512343715.py:62: DtypeWarning: Columns (1) have mixed types. Specify dtype option on import or set low_memory=False.\n",
      "  df = pd.read_csv(file_path)  # Asumiendo que existe una función pd.read_csv\n"
     ]
    },
    {
     "name": "stdout",
     "output_type": "stream",
     "text": [
      "Se encontraron 38247 registros dentro del polígono para el archivo archivos_homogenizados\\01 - 16 -29 ENE  2023.csv.\n",
      "Archivo filtrado y guardado: archivos_filtrados\\filtrado_01 - 16 -29 ENE  2023.csv\n",
      "Se encontraron 38247 registros dentro del polígono para el archivo archivos_homogenizados\\01 - 16 -29 ENE  2023.xlsx.\n",
      "Archivo filtrado y guardado: archivos_filtrados\\filtrado_01 - 16 -29 ENE  2023.xlsx\n"
     ]
    },
    {
     "name": "stderr",
     "output_type": "stream",
     "text": [
      "C:\\Users\\ricar\\AppData\\Local\\Temp\\ipykernel_66208\\1512343715.py:62: DtypeWarning: Columns (1) have mixed types. Specify dtype option on import or set low_memory=False.\n",
      "  df = pd.read_csv(file_path)  # Asumiendo que existe una función pd.read_csv\n"
     ]
    },
    {
     "name": "stdout",
     "output_type": "stream",
     "text": [
      "Se encontraron 44424 registros dentro del polígono para el archivo archivos_homogenizados\\01-10-ABR-2018.csv.\n",
      "Archivo filtrado y guardado: archivos_filtrados\\filtrado_01-10-ABR-2018.csv\n"
     ]
    },
    {
     "name": "stderr",
     "output_type": "stream",
     "text": [
      "C:\\Users\\ricar\\AppData\\Local\\Temp\\ipykernel_66208\\1512343715.py:62: DtypeWarning: Columns (1) have mixed types. Specify dtype option on import or set low_memory=False.\n",
      "  df = pd.read_csv(file_path)  # Asumiendo que existe una función pd.read_csv\n"
     ]
    },
    {
     "name": "stdout",
     "output_type": "stream",
     "text": [
      "Se encontraron 40146 registros dentro del polígono para el archivo archivos_homogenizados\\01-10-ABR-2019.csv.\n",
      "Archivo filtrado y guardado: archivos_filtrados\\filtrado_01-10-ABR-2019.csv\n"
     ]
    },
    {
     "name": "stderr",
     "output_type": "stream",
     "text": [
      "C:\\Users\\ricar\\AppData\\Local\\Temp\\ipykernel_66208\\1512343715.py:62: DtypeWarning: Columns (1) have mixed types. Specify dtype option on import or set low_memory=False.\n",
      "  df = pd.read_csv(file_path)  # Asumiendo que existe una función pd.read_csv\n"
     ]
    },
    {
     "name": "stdout",
     "output_type": "stream",
     "text": [
      "Se encontraron 33050 registros dentro del polígono para el archivo archivos_homogenizados\\01-10-ABR-2020.csv.\n",
      "Archivo filtrado y guardado: archivos_filtrados\\filtrado_01-10-ABR-2020.csv\n"
     ]
    },
    {
     "name": "stderr",
     "output_type": "stream",
     "text": [
      "C:\\Users\\ricar\\AppData\\Local\\Temp\\ipykernel_66208\\1512343715.py:62: DtypeWarning: Columns (1) have mixed types. Specify dtype option on import or set low_memory=False.\n",
      "  df = pd.read_csv(file_path)  # Asumiendo que existe una función pd.read_csv\n"
     ]
    },
    {
     "name": "stdout",
     "output_type": "stream",
     "text": [
      "Se encontraron 27363 registros dentro del polígono para el archivo archivos_homogenizados\\01-10-AGO-2018.csv.\n",
      "Archivo filtrado y guardado: archivos_filtrados\\filtrado_01-10-AGO-2018.csv\n"
     ]
    },
    {
     "name": "stderr",
     "output_type": "stream",
     "text": [
      "C:\\Users\\ricar\\AppData\\Local\\Temp\\ipykernel_66208\\1512343715.py:62: DtypeWarning: Columns (1) have mixed types. Specify dtype option on import or set low_memory=False.\n",
      "  df = pd.read_csv(file_path)  # Asumiendo que existe una función pd.read_csv\n"
     ]
    },
    {
     "name": "stdout",
     "output_type": "stream",
     "text": [
      "Se encontraron 32951 registros dentro del polígono para el archivo archivos_homogenizados\\01-10-AGO-2019.csv.\n",
      "Archivo filtrado y guardado: archivos_filtrados\\filtrado_01-10-AGO-2019.csv\n"
     ]
    },
    {
     "name": "stderr",
     "output_type": "stream",
     "text": [
      "C:\\Users\\ricar\\AppData\\Local\\Temp\\ipykernel_66208\\1512343715.py:62: DtypeWarning: Columns (1) have mixed types. Specify dtype option on import or set low_memory=False.\n",
      "  df = pd.read_csv(file_path)  # Asumiendo que existe una función pd.read_csv\n"
     ]
    },
    {
     "name": "stdout",
     "output_type": "stream",
     "text": [
      "Se encontraron 18563 registros dentro del polígono para el archivo archivos_homogenizados\\01-10-AGO-2020.csv.\n",
      "Archivo filtrado y guardado: archivos_filtrados\\filtrado_01-10-AGO-2020.csv\n"
     ]
    },
    {
     "name": "stderr",
     "output_type": "stream",
     "text": [
      "C:\\Users\\ricar\\AppData\\Local\\Temp\\ipykernel_66208\\1512343715.py:62: DtypeWarning: Columns (1) have mixed types. Specify dtype option on import or set low_memory=False.\n",
      "  df = pd.read_csv(file_path)  # Asumiendo que existe una función pd.read_csv\n"
     ]
    },
    {
     "name": "stdout",
     "output_type": "stream",
     "text": [
      "Se encontraron 32245 registros dentro del polígono para el archivo archivos_homogenizados\\01-10-DIC-2018.csv.\n",
      "Archivo filtrado y guardado: archivos_filtrados\\filtrado_01-10-DIC-2018.csv\n"
     ]
    },
    {
     "name": "stderr",
     "output_type": "stream",
     "text": [
      "C:\\Users\\ricar\\AppData\\Local\\Temp\\ipykernel_66208\\1512343715.py:62: DtypeWarning: Columns (1) have mixed types. Specify dtype option on import or set low_memory=False.\n",
      "  df = pd.read_csv(file_path)  # Asumiendo que existe una función pd.read_csv\n"
     ]
    },
    {
     "name": "stdout",
     "output_type": "stream",
     "text": [
      "Se encontraron 32338 registros dentro del polígono para el archivo archivos_homogenizados\\01-10-DIC-2019.csv.\n",
      "Archivo filtrado y guardado: archivos_filtrados\\filtrado_01-10-DIC-2019.csv\n"
     ]
    },
    {
     "name": "stderr",
     "output_type": "stream",
     "text": [
      "C:\\Users\\ricar\\AppData\\Local\\Temp\\ipykernel_66208\\1512343715.py:62: DtypeWarning: Columns (1) have mixed types. Specify dtype option on import or set low_memory=False.\n",
      "  df = pd.read_csv(file_path)  # Asumiendo que existe una función pd.read_csv\n"
     ]
    },
    {
     "name": "stdout",
     "output_type": "stream",
     "text": [
      "Se encontraron 29486 registros dentro del polígono para el archivo archivos_homogenizados\\01-10-ENE-2018.csv.\n",
      "Archivo filtrado y guardado: archivos_filtrados\\filtrado_01-10-ENE-2018.csv\n"
     ]
    },
    {
     "name": "stderr",
     "output_type": "stream",
     "text": [
      "C:\\Users\\ricar\\AppData\\Local\\Temp\\ipykernel_66208\\1512343715.py:62: DtypeWarning: Columns (1) have mixed types. Specify dtype option on import or set low_memory=False.\n",
      "  df = pd.read_csv(file_path)  # Asumiendo que existe una función pd.read_csv\n"
     ]
    },
    {
     "name": "stdout",
     "output_type": "stream",
     "text": [
      "Se encontraron 28921 registros dentro del polígono para el archivo archivos_homogenizados\\01-10-ENE-2019.csv.\n",
      "Archivo filtrado y guardado: archivos_filtrados\\filtrado_01-10-ENE-2019.csv\n"
     ]
    },
    {
     "name": "stderr",
     "output_type": "stream",
     "text": [
      "C:\\Users\\ricar\\AppData\\Local\\Temp\\ipykernel_66208\\1512343715.py:62: DtypeWarning: Columns (1) have mixed types. Specify dtype option on import or set low_memory=False.\n",
      "  df = pd.read_csv(file_path)  # Asumiendo que existe una función pd.read_csv\n"
     ]
    },
    {
     "name": "stdout",
     "output_type": "stream",
     "text": [
      "Se encontraron 28926 registros dentro del polígono para el archivo archivos_homogenizados\\01-10-ENE-2020.csv.\n",
      "Archivo filtrado y guardado: archivos_filtrados\\filtrado_01-10-ENE-2020.csv\n",
      "Se encontraron 33128 registros dentro del polígono para el archivo archivos_homogenizados\\01-10-FEB-2018.xlsx.\n",
      "Archivo filtrado y guardado: archivos_filtrados\\filtrado_01-10-FEB-2018.xlsx\n"
     ]
    },
    {
     "name": "stderr",
     "output_type": "stream",
     "text": [
      "C:\\Users\\ricar\\AppData\\Local\\Temp\\ipykernel_66208\\1512343715.py:62: DtypeWarning: Columns (1) have mixed types. Specify dtype option on import or set low_memory=False.\n",
      "  df = pd.read_csv(file_path)  # Asumiendo que existe una función pd.read_csv\n"
     ]
    },
    {
     "name": "stdout",
     "output_type": "stream",
     "text": [
      "Se encontraron 34331 registros dentro del polígono para el archivo archivos_homogenizados\\01-10-FEB-2019.csv.\n",
      "Archivo filtrado y guardado: archivos_filtrados\\filtrado_01-10-FEB-2019.csv\n"
     ]
    },
    {
     "name": "stderr",
     "output_type": "stream",
     "text": [
      "C:\\Users\\ricar\\AppData\\Local\\Temp\\ipykernel_66208\\1512343715.py:62: DtypeWarning: Columns (1) have mixed types. Specify dtype option on import or set low_memory=False.\n",
      "  df = pd.read_csv(file_path)  # Asumiendo que existe una función pd.read_csv\n"
     ]
    },
    {
     "name": "stdout",
     "output_type": "stream",
     "text": [
      "Se encontraron 32559 registros dentro del polígono para el archivo archivos_homogenizados\\01-10-FEB-2020.csv.\n",
      "Archivo filtrado y guardado: archivos_filtrados\\filtrado_01-10-FEB-2020.csv\n"
     ]
    },
    {
     "name": "stderr",
     "output_type": "stream",
     "text": [
      "C:\\Users\\ricar\\AppData\\Local\\Temp\\ipykernel_66208\\1512343715.py:62: DtypeWarning: Columns (1) have mixed types. Specify dtype option on import or set low_memory=False.\n",
      "  df = pd.read_csv(file_path)  # Asumiendo que existe una función pd.read_csv\n"
     ]
    },
    {
     "name": "stdout",
     "output_type": "stream",
     "text": [
      "Se encontraron 33546 registros dentro del polígono para el archivo archivos_homogenizados\\01-10-JUL-2018.csv.\n",
      "Archivo filtrado y guardado: archivos_filtrados\\filtrado_01-10-JUL-2018.csv\n"
     ]
    },
    {
     "name": "stderr",
     "output_type": "stream",
     "text": [
      "C:\\Users\\ricar\\AppData\\Local\\Temp\\ipykernel_66208\\1512343715.py:62: DtypeWarning: Columns (1) have mixed types. Specify dtype option on import or set low_memory=False.\n",
      "  df = pd.read_csv(file_path)  # Asumiendo que existe una función pd.read_csv\n"
     ]
    },
    {
     "name": "stdout",
     "output_type": "stream",
     "text": [
      "Se encontraron 31894 registros dentro del polígono para el archivo archivos_homogenizados\\01-10-JUL-2019.csv.\n",
      "Archivo filtrado y guardado: archivos_filtrados\\filtrado_01-10-JUL-2019.csv\n"
     ]
    },
    {
     "name": "stderr",
     "output_type": "stream",
     "text": [
      "C:\\Users\\ricar\\AppData\\Local\\Temp\\ipykernel_66208\\1512343715.py:62: DtypeWarning: Columns (1) have mixed types. Specify dtype option on import or set low_memory=False.\n",
      "  df = pd.read_csv(file_path)  # Asumiendo que existe una función pd.read_csv\n"
     ]
    },
    {
     "name": "stdout",
     "output_type": "stream",
     "text": [
      "Se encontraron 21867 registros dentro del polígono para el archivo archivos_homogenizados\\01-10-JUL-2020.csv.\n",
      "Archivo filtrado y guardado: archivos_filtrados\\filtrado_01-10-JUL-2020.csv\n"
     ]
    },
    {
     "name": "stderr",
     "output_type": "stream",
     "text": [
      "C:\\Users\\ricar\\AppData\\Local\\Temp\\ipykernel_66208\\1512343715.py:62: DtypeWarning: Columns (1) have mixed types. Specify dtype option on import or set low_memory=False.\n",
      "  df = pd.read_csv(file_path)  # Asumiendo que existe una función pd.read_csv\n"
     ]
    },
    {
     "name": "stdout",
     "output_type": "stream",
     "text": [
      "Se encontraron 39799 registros dentro del polígono para el archivo archivos_homogenizados\\01-10-JUN-2018.csv.\n",
      "Archivo filtrado y guardado: archivos_filtrados\\filtrado_01-10-JUN-2018.csv\n"
     ]
    },
    {
     "name": "stderr",
     "output_type": "stream",
     "text": [
      "C:\\Users\\ricar\\AppData\\Local\\Temp\\ipykernel_66208\\1512343715.py:62: DtypeWarning: Columns (1) have mixed types. Specify dtype option on import or set low_memory=False.\n",
      "  df = pd.read_csv(file_path)  # Asumiendo que existe una función pd.read_csv\n"
     ]
    },
    {
     "name": "stdout",
     "output_type": "stream",
     "text": [
      "Se encontraron 37709 registros dentro del polígono para el archivo archivos_homogenizados\\01-10-JUN-2019.csv.\n",
      "Archivo filtrado y guardado: archivos_filtrados\\filtrado_01-10-JUN-2019.csv\n"
     ]
    },
    {
     "name": "stderr",
     "output_type": "stream",
     "text": [
      "C:\\Users\\ricar\\AppData\\Local\\Temp\\ipykernel_66208\\1512343715.py:62: DtypeWarning: Columns (1) have mixed types. Specify dtype option on import or set low_memory=False.\n",
      "  df = pd.read_csv(file_path)  # Asumiendo que existe una función pd.read_csv\n"
     ]
    },
    {
     "name": "stdout",
     "output_type": "stream",
     "text": [
      "Se encontraron 23314 registros dentro del polígono para el archivo archivos_homogenizados\\01-10-JUN-2020.csv.\n",
      "Archivo filtrado y guardado: archivos_filtrados\\filtrado_01-10-JUN-2020.csv\n"
     ]
    },
    {
     "name": "stderr",
     "output_type": "stream",
     "text": [
      "C:\\Users\\ricar\\AppData\\Local\\Temp\\ipykernel_66208\\1512343715.py:62: DtypeWarning: Columns (1) have mixed types. Specify dtype option on import or set low_memory=False.\n",
      "  df = pd.read_csv(file_path)  # Asumiendo que existe una función pd.read_csv\n"
     ]
    },
    {
     "name": "stdout",
     "output_type": "stream",
     "text": [
      "Se encontraron 40144 registros dentro del polígono para el archivo archivos_homogenizados\\01-10-MAR-2018.csv.\n",
      "Archivo filtrado y guardado: archivos_filtrados\\filtrado_01-10-MAR-2018.csv\n"
     ]
    },
    {
     "name": "stderr",
     "output_type": "stream",
     "text": [
      "C:\\Users\\ricar\\AppData\\Local\\Temp\\ipykernel_66208\\1512343715.py:62: DtypeWarning: Columns (1) have mixed types. Specify dtype option on import or set low_memory=False.\n",
      "  df = pd.read_csv(file_path)  # Asumiendo que existe una función pd.read_csv\n"
     ]
    },
    {
     "name": "stdout",
     "output_type": "stream",
     "text": [
      "Se encontraron 33379 registros dentro del polígono para el archivo archivos_homogenizados\\01-10-MAR-2019.csv.\n",
      "Archivo filtrado y guardado: archivos_filtrados\\filtrado_01-10-MAR-2019.csv\n"
     ]
    },
    {
     "name": "stderr",
     "output_type": "stream",
     "text": [
      "C:\\Users\\ricar\\AppData\\Local\\Temp\\ipykernel_66208\\1512343715.py:62: DtypeWarning: Columns (1) have mixed types. Specify dtype option on import or set low_memory=False.\n",
      "  df = pd.read_csv(file_path)  # Asumiendo que existe una función pd.read_csv\n"
     ]
    },
    {
     "name": "stdout",
     "output_type": "stream",
     "text": [
      "Se encontraron 33159 registros dentro del polígono para el archivo archivos_homogenizados\\01-10-MAR-2020.csv.\n",
      "Archivo filtrado y guardado: archivos_filtrados\\filtrado_01-10-MAR-2020.csv\n"
     ]
    },
    {
     "name": "stderr",
     "output_type": "stream",
     "text": [
      "C:\\Users\\ricar\\AppData\\Local\\Temp\\ipykernel_66208\\1512343715.py:62: DtypeWarning: Columns (1) have mixed types. Specify dtype option on import or set low_memory=False.\n",
      "  df = pd.read_csv(file_path)  # Asumiendo que existe una función pd.read_csv\n"
     ]
    },
    {
     "name": "stdout",
     "output_type": "stream",
     "text": [
      "Se encontraron 55305 registros dentro del polígono para el archivo archivos_homogenizados\\01-10-MAY-2018.csv.\n",
      "Archivo filtrado y guardado: archivos_filtrados\\filtrado_01-10-MAY-2018.csv\n"
     ]
    },
    {
     "name": "stderr",
     "output_type": "stream",
     "text": [
      "C:\\Users\\ricar\\AppData\\Local\\Temp\\ipykernel_66208\\1512343715.py:62: DtypeWarning: Columns (1) have mixed types. Specify dtype option on import or set low_memory=False.\n",
      "  df = pd.read_csv(file_path)  # Asumiendo que existe una función pd.read_csv\n"
     ]
    },
    {
     "name": "stdout",
     "output_type": "stream",
     "text": [
      "Se encontraron 40437 registros dentro del polígono para el archivo archivos_homogenizados\\01-10-MAY-2019.csv.\n",
      "Archivo filtrado y guardado: archivos_filtrados\\filtrado_01-10-MAY-2019.csv\n"
     ]
    },
    {
     "name": "stderr",
     "output_type": "stream",
     "text": [
      "C:\\Users\\ricar\\AppData\\Local\\Temp\\ipykernel_66208\\1512343715.py:62: DtypeWarning: Columns (1) have mixed types. Specify dtype option on import or set low_memory=False.\n",
      "  df = pd.read_csv(file_path)  # Asumiendo que existe una función pd.read_csv\n"
     ]
    },
    {
     "name": "stdout",
     "output_type": "stream",
     "text": [
      "Se encontraron 39132 registros dentro del polígono para el archivo archivos_homogenizados\\01-10-MAY-2020.csv.\n",
      "Archivo filtrado y guardado: archivos_filtrados\\filtrado_01-10-MAY-2020.csv\n"
     ]
    },
    {
     "name": "stderr",
     "output_type": "stream",
     "text": [
      "C:\\Users\\ricar\\AppData\\Local\\Temp\\ipykernel_66208\\1512343715.py:62: DtypeWarning: Columns (1) have mixed types. Specify dtype option on import or set low_memory=False.\n",
      "  df = pd.read_csv(file_path)  # Asumiendo que existe una función pd.read_csv\n"
     ]
    },
    {
     "name": "stdout",
     "output_type": "stream",
     "text": [
      "Se encontraron 33899 registros dentro del polígono para el archivo archivos_homogenizados\\01-10-NOV-2018.csv.\n",
      "Archivo filtrado y guardado: archivos_filtrados\\filtrado_01-10-NOV-2018.csv\n"
     ]
    },
    {
     "name": "stderr",
     "output_type": "stream",
     "text": [
      "C:\\Users\\ricar\\AppData\\Local\\Temp\\ipykernel_66208\\1512343715.py:62: DtypeWarning: Columns (1) have mixed types. Specify dtype option on import or set low_memory=False.\n",
      "  df = pd.read_csv(file_path)  # Asumiendo que existe una función pd.read_csv\n"
     ]
    },
    {
     "name": "stdout",
     "output_type": "stream",
     "text": [
      "Se encontraron 52240 registros dentro del polígono para el archivo archivos_homogenizados\\01-10-NOV-2019.csv.\n",
      "Archivo filtrado y guardado: archivos_filtrados\\filtrado_01-10-NOV-2019.csv\n"
     ]
    },
    {
     "name": "stderr",
     "output_type": "stream",
     "text": [
      "C:\\Users\\ricar\\AppData\\Local\\Temp\\ipykernel_66208\\1512343715.py:62: DtypeWarning: Columns (1) have mixed types. Specify dtype option on import or set low_memory=False.\n",
      "  df = pd.read_csv(file_path)  # Asumiendo que existe una función pd.read_csv\n"
     ]
    },
    {
     "name": "stdout",
     "output_type": "stream",
     "text": [
      "Se encontraron 17028 registros dentro del polígono para el archivo archivos_homogenizados\\01-10-OCT-2018.csv.\n",
      "Archivo filtrado y guardado: archivos_filtrados\\filtrado_01-10-OCT-2018.csv\n"
     ]
    },
    {
     "name": "stderr",
     "output_type": "stream",
     "text": [
      "C:\\Users\\ricar\\AppData\\Local\\Temp\\ipykernel_66208\\1512343715.py:62: DtypeWarning: Columns (1) have mixed types. Specify dtype option on import or set low_memory=False.\n",
      "  df = pd.read_csv(file_path)  # Asumiendo que existe una función pd.read_csv\n"
     ]
    },
    {
     "name": "stdout",
     "output_type": "stream",
     "text": [
      "Se encontraron 19230 registros dentro del polígono para el archivo archivos_homogenizados\\01-10-OCT-2019.csv.\n",
      "Archivo filtrado y guardado: archivos_filtrados\\filtrado_01-10-OCT-2019.csv\n"
     ]
    },
    {
     "name": "stderr",
     "output_type": "stream",
     "text": [
      "C:\\Users\\ricar\\AppData\\Local\\Temp\\ipykernel_66208\\1512343715.py:62: DtypeWarning: Columns (1) have mixed types. Specify dtype option on import or set low_memory=False.\n",
      "  df = pd.read_csv(file_path)  # Asumiendo que existe una función pd.read_csv\n"
     ]
    },
    {
     "name": "stdout",
     "output_type": "stream",
     "text": [
      "Se encontraron 28787 registros dentro del polígono para el archivo archivos_homogenizados\\01-10-SEP-2018.csv.\n",
      "Archivo filtrado y guardado: archivos_filtrados\\filtrado_01-10-SEP-2018.csv\n"
     ]
    },
    {
     "name": "stderr",
     "output_type": "stream",
     "text": [
      "C:\\Users\\ricar\\AppData\\Local\\Temp\\ipykernel_66208\\1512343715.py:62: DtypeWarning: Columns (1) have mixed types. Specify dtype option on import or set low_memory=False.\n",
      "  df = pd.read_csv(file_path)  # Asumiendo que existe una función pd.read_csv\n"
     ]
    },
    {
     "name": "stdout",
     "output_type": "stream",
     "text": [
      "Se encontraron 16082 registros dentro del polígono para el archivo archivos_homogenizados\\01-10-SEP-2019.csv.\n",
      "Archivo filtrado y guardado: archivos_filtrados\\filtrado_01-10-SEP-2019.csv\n"
     ]
    },
    {
     "name": "stderr",
     "output_type": "stream",
     "text": [
      "C:\\Users\\ricar\\AppData\\Local\\Temp\\ipykernel_66208\\1512343715.py:62: DtypeWarning: Columns (1) have mixed types. Specify dtype option on import or set low_memory=False.\n",
      "  df = pd.read_csv(file_path)  # Asumiendo que existe una función pd.read_csv\n"
     ]
    },
    {
     "name": "stdout",
     "output_type": "stream",
     "text": [
      "Se encontraron 22905 registros dentro del polígono para el archivo archivos_homogenizados\\01-10-SEP-2020.csv.\n",
      "Archivo filtrado y guardado: archivos_filtrados\\filtrado_01-10-SEP-2020.csv\n"
     ]
    },
    {
     "name": "stderr",
     "output_type": "stream",
     "text": [
      "C:\\Users\\ricar\\AppData\\Local\\Temp\\ipykernel_66208\\1512343715.py:62: DtypeWarning: Columns (1) have mixed types. Specify dtype option on import or set low_memory=False.\n",
      "  df = pd.read_csv(file_path)  # Asumiendo que existe una función pd.read_csv\n"
     ]
    },
    {
     "name": "stdout",
     "output_type": "stream",
     "text": [
      "Se encontraron 45670 registros dentro del polígono para el archivo archivos_homogenizados\\01-15 DIC 2020.csv.\n",
      "Archivo filtrado y guardado: archivos_filtrados\\filtrado_01-15 DIC 2020.csv\n"
     ]
    },
    {
     "name": "stderr",
     "output_type": "stream",
     "text": [
      "C:\\Users\\ricar\\AppData\\Local\\Temp\\ipykernel_66208\\1512343715.py:62: DtypeWarning: Columns (1) have mixed types. Specify dtype option on import or set low_memory=False.\n",
      "  df = pd.read_csv(file_path)  # Asumiendo que existe una función pd.read_csv\n"
     ]
    },
    {
     "name": "stdout",
     "output_type": "stream",
     "text": [
      "Se encontraron 45680 registros dentro del polígono para el archivo archivos_homogenizados\\01-15 DIC 2021.csv.\n",
      "Archivo filtrado y guardado: archivos_filtrados\\filtrado_01-15 DIC 2021.csv\n"
     ]
    },
    {
     "name": "stderr",
     "output_type": "stream",
     "text": [
      "C:\\Users\\ricar\\AppData\\Local\\Temp\\ipykernel_66208\\1512343715.py:62: DtypeWarning: Columns (1) have mixed types. Specify dtype option on import or set low_memory=False.\n",
      "  df = pd.read_csv(file_path)  # Asumiendo que existe una función pd.read_csv\n"
     ]
    },
    {
     "name": "stdout",
     "output_type": "stream",
     "text": [
      "Se encontraron 39547 registros dentro del polígono para el archivo archivos_homogenizados\\01-15 ENE 2021.csv.\n",
      "Archivo filtrado y guardado: archivos_filtrados\\filtrado_01-15 ENE 2021.csv\n"
     ]
    },
    {
     "name": "stderr",
     "output_type": "stream",
     "text": [
      "C:\\Users\\ricar\\AppData\\Local\\Temp\\ipykernel_66208\\1512343715.py:62: DtypeWarning: Columns (1) have mixed types. Specify dtype option on import or set low_memory=False.\n",
      "  df = pd.read_csv(file_path)  # Asumiendo que existe una función pd.read_csv\n"
     ]
    },
    {
     "name": "stdout",
     "output_type": "stream",
     "text": [
      "Se encontraron 43517 registros dentro del polígono para el archivo archivos_homogenizados\\01-15 ENE 2022.csv.\n",
      "Archivo filtrado y guardado: archivos_filtrados\\filtrado_01-15 ENE 2022.csv\n"
     ]
    },
    {
     "name": "stderr",
     "output_type": "stream",
     "text": [
      "C:\\Users\\ricar\\AppData\\Local\\Temp\\ipykernel_66208\\1512343715.py:62: DtypeWarning: Columns (1) have mixed types. Specify dtype option on import or set low_memory=False.\n",
      "  df = pd.read_csv(file_path)  # Asumiendo que existe una función pd.read_csv\n"
     ]
    },
    {
     "name": "stdout",
     "output_type": "stream",
     "text": [
      "Se encontraron 46506 registros dentro del polígono para el archivo archivos_homogenizados\\01-15 MARZO 2021.csv.\n",
      "Archivo filtrado y guardado: archivos_filtrados\\filtrado_01-15 MARZO 2021.csv\n"
     ]
    },
    {
     "name": "stderr",
     "output_type": "stream",
     "text": [
      "C:\\Users\\ricar\\AppData\\Local\\Temp\\ipykernel_66208\\1512343715.py:62: DtypeWarning: Columns (1) have mixed types. Specify dtype option on import or set low_memory=False.\n",
      "  df = pd.read_csv(file_path)  # Asumiendo que existe una función pd.read_csv\n"
     ]
    },
    {
     "name": "stdout",
     "output_type": "stream",
     "text": [
      "Se encontraron 30100 registros dentro del polígono para el archivo archivos_homogenizados\\01-15 NOV 2020.csv.\n",
      "Archivo filtrado y guardado: archivos_filtrados\\filtrado_01-15 NOV 2020.csv\n"
     ]
    },
    {
     "name": "stderr",
     "output_type": "stream",
     "text": [
      "C:\\Users\\ricar\\AppData\\Local\\Temp\\ipykernel_66208\\1512343715.py:62: DtypeWarning: Columns (1) have mixed types. Specify dtype option on import or set low_memory=False.\n",
      "  df = pd.read_csv(file_path)  # Asumiendo que existe una función pd.read_csv\n"
     ]
    },
    {
     "name": "stdout",
     "output_type": "stream",
     "text": [
      "Se encontraron 22003 registros dentro del polígono para el archivo archivos_homogenizados\\01-15 OCT 2020.csv.\n",
      "Archivo filtrado y guardado: archivos_filtrados\\filtrado_01-15 OCT 2020.csv\n"
     ]
    },
    {
     "name": "stderr",
     "output_type": "stream",
     "text": [
      "C:\\Users\\ricar\\AppData\\Local\\Temp\\ipykernel_66208\\1512343715.py:62: DtypeWarning: Columns (1) have mixed types. Specify dtype option on import or set low_memory=False.\n",
      "  df = pd.read_csv(file_path)  # Asumiendo que existe una función pd.read_csv\n"
     ]
    },
    {
     "name": "stdout",
     "output_type": "stream",
     "text": [
      "Se encontraron 81490 registros dentro del polígono para el archivo archivos_homogenizados\\01-28 FEB 2021.csv.\n",
      "Archivo filtrado y guardado: archivos_filtrados\\filtrado_01-28 FEB 2021.csv\n"
     ]
    },
    {
     "name": "stderr",
     "output_type": "stream",
     "text": [
      "C:\\Users\\ricar\\AppData\\Local\\Temp\\ipykernel_66208\\1512343715.py:62: DtypeWarning: Columns (1) have mixed types. Specify dtype option on import or set low_memory=False.\n",
      "  df = pd.read_csv(file_path)  # Asumiendo que existe una función pd.read_csv\n"
     ]
    },
    {
     "name": "stdout",
     "output_type": "stream",
     "text": [
      "Se encontraron 103293 registros dentro del polígono para el archivo archivos_homogenizados\\01-30 ABR 2021.csv.\n",
      "Archivo filtrado y guardado: archivos_filtrados\\filtrado_01-30 ABR 2021.csv\n"
     ]
    },
    {
     "name": "stderr",
     "output_type": "stream",
     "text": [
      "C:\\Users\\ricar\\AppData\\Local\\Temp\\ipykernel_66208\\1512343715.py:62: DtypeWarning: Columns (1) have mixed types. Specify dtype option on import or set low_memory=False.\n",
      "  df = pd.read_csv(file_path)  # Asumiendo que existe una función pd.read_csv\n"
     ]
    },
    {
     "name": "stdout",
     "output_type": "stream",
     "text": [
      "Se encontraron 69830 registros dentro del polígono para el archivo archivos_homogenizados\\01-30 SEP 2021.csv.\n",
      "Archivo filtrado y guardado: archivos_filtrados\\filtrado_01-30 SEP 2021.csv\n"
     ]
    },
    {
     "name": "stderr",
     "output_type": "stream",
     "text": [
      "C:\\Users\\ricar\\AppData\\Local\\Temp\\ipykernel_66208\\1512343715.py:62: DtypeWarning: Columns (1) have mixed types. Specify dtype option on import or set low_memory=False.\n",
      "  df = pd.read_csv(file_path)  # Asumiendo que existe una función pd.read_csv\n"
     ]
    },
    {
     "name": "stdout",
     "output_type": "stream",
     "text": [
      "Se encontraron 69831 registros dentro del polígono para el archivo archivos_homogenizados\\01-31 AGO 2021.csv.\n",
      "Archivo filtrado y guardado: archivos_filtrados\\filtrado_01-31 AGO 2021.csv\n"
     ]
    },
    {
     "name": "stderr",
     "output_type": "stream",
     "text": [
      "C:\\Users\\ricar\\AppData\\Local\\Temp\\ipykernel_66208\\1512343715.py:62: DtypeWarning: Columns (1) have mixed types. Specify dtype option on import or set low_memory=False.\n",
      "  df = pd.read_csv(file_path)  # Asumiendo que existe una función pd.read_csv\n"
     ]
    },
    {
     "name": "stdout",
     "output_type": "stream",
     "text": [
      "Se encontraron 52365 registros dentro del polígono para el archivo archivos_homogenizados\\01-31 JUL 2021.csv.\n",
      "Archivo filtrado y guardado: archivos_filtrados\\filtrado_01-31 JUL 2021.csv\n",
      "Se encontraron 13552 registros dentro del polígono para el archivo archivos_homogenizados\\01-31 MAYO 2023.csv.\n",
      "Archivo filtrado y guardado: archivos_filtrados\\filtrado_01-31 MAYO 2023.csv\n"
     ]
    },
    {
     "name": "stderr",
     "output_type": "stream",
     "text": [
      "C:\\Users\\ricar\\AppData\\Local\\Temp\\ipykernel_66208\\1512343715.py:62: DtypeWarning: Columns (1) have mixed types. Specify dtype option on import or set low_memory=False.\n",
      "  df = pd.read_csv(file_path)  # Asumiendo que existe una función pd.read_csv\n"
     ]
    },
    {
     "name": "stdout",
     "output_type": "stream",
     "text": [
      "Se encontraron 45294 registros dentro del polígono para el archivo archivos_homogenizados\\01-31 OCT 2021.csv.\n",
      "Archivo filtrado y guardado: archivos_filtrados\\filtrado_01-31 OCT 2021.csv\n",
      "Se encontraron 82326 registros dentro del polígono para el archivo archivos_homogenizados\\01-31 OCTUBRE 2023.csv.\n",
      "Archivo filtrado y guardado: archivos_filtrados\\filtrado_01-31 OCTUBRE 2023.csv\n"
     ]
    },
    {
     "name": "stderr",
     "output_type": "stream",
     "text": [
      "C:\\Users\\ricar\\AppData\\Local\\Temp\\ipykernel_66208\\1512343715.py:62: DtypeWarning: Columns (1) have mixed types. Specify dtype option on import or set low_memory=False.\n",
      "  df = pd.read_csv(file_path)  # Asumiendo que existe una función pd.read_csv\n"
     ]
    },
    {
     "name": "stdout",
     "output_type": "stream",
     "text": [
      "Se encontraron 48095 registros dentro del polígono para el archivo archivos_homogenizados\\02 - 01 -15 FEB 2022.csv.\n",
      "Archivo filtrado y guardado: archivos_filtrados\\filtrado_02 - 01 -15 FEB 2022.csv\n"
     ]
    },
    {
     "name": "stderr",
     "output_type": "stream",
     "text": [
      "C:\\Users\\ricar\\AppData\\Local\\Temp\\ipykernel_66208\\1512343715.py:62: DtypeWarning: Columns (1) have mixed types. Specify dtype option on import or set low_memory=False.\n",
      "  df = pd.read_csv(file_path)  # Asumiendo que existe una función pd.read_csv\n"
     ]
    },
    {
     "name": "stdout",
     "output_type": "stream",
     "text": [
      "Se encontraron 51040 registros dentro del polígono para el archivo archivos_homogenizados\\02 - 16 - 28 FEB 2022.csv.\n",
      "Archivo filtrado y guardado: archivos_filtrados\\filtrado_02 - 16 - 28 FEB 2022.csv\n"
     ]
    },
    {
     "name": "stderr",
     "output_type": "stream",
     "text": [
      "C:\\Users\\ricar\\AppData\\Local\\Temp\\ipykernel_66208\\1512343715.py:62: DtypeWarning: Columns (1) have mixed types. Specify dtype option on import or set low_memory=False.\n",
      "  df = pd.read_csv(file_path)  # Asumiendo que existe una función pd.read_csv\n"
     ]
    },
    {
     "name": "stdout",
     "output_type": "stream",
     "text": [
      "Se encontraron 44354 registros dentro del polígono para el archivo archivos_homogenizados\\03 - 01 -15 MAR 2022.csv.\n",
      "Archivo filtrado y guardado: archivos_filtrados\\filtrado_03 - 01 -15 MAR 2022.csv\n"
     ]
    },
    {
     "name": "stderr",
     "output_type": "stream",
     "text": [
      "C:\\Users\\ricar\\AppData\\Local\\Temp\\ipykernel_66208\\1512343715.py:62: DtypeWarning: Columns (1) have mixed types. Specify dtype option on import or set low_memory=False.\n",
      "  df = pd.read_csv(file_path)  # Asumiendo que existe una función pd.read_csv\n"
     ]
    },
    {
     "name": "stdout",
     "output_type": "stream",
     "text": [
      "Se encontraron 45044 registros dentro del polígono para el archivo archivos_homogenizados\\03 - 16 -31 MAR 2022.csv.\n",
      "Archivo filtrado y guardado: archivos_filtrados\\filtrado_03 - 16 -31 MAR 2022.csv\n"
     ]
    },
    {
     "name": "stderr",
     "output_type": "stream",
     "text": [
      "C:\\Users\\ricar\\AppData\\Local\\Temp\\ipykernel_66208\\1512343715.py:62: DtypeWarning: Columns (1) have mixed types. Specify dtype option on import or set low_memory=False.\n",
      "  df = pd.read_csv(file_path)  # Asumiendo que existe una función pd.read_csv\n"
     ]
    },
    {
     "name": "stdout",
     "output_type": "stream",
     "text": [
      "Se encontraron 49433 registros dentro del polígono para el archivo archivos_homogenizados\\04 - 01 -15 ABR  2022.csv.\n",
      "Archivo filtrado y guardado: archivos_filtrados\\filtrado_04 - 01 -15 ABR  2022.csv\n"
     ]
    },
    {
     "name": "stderr",
     "output_type": "stream",
     "text": [
      "C:\\Users\\ricar\\AppData\\Local\\Temp\\ipykernel_66208\\1512343715.py:62: DtypeWarning: Columns (1) have mixed types. Specify dtype option on import or set low_memory=False.\n",
      "  df = pd.read_csv(file_path)  # Asumiendo que existe una función pd.read_csv\n"
     ]
    },
    {
     "name": "stdout",
     "output_type": "stream",
     "text": [
      "Se encontraron 52486 registros dentro del polígono para el archivo archivos_homogenizados\\04 - 16 -30 ABR  2022.csv.\n",
      "Archivo filtrado y guardado: archivos_filtrados\\filtrado_04 - 16 -30 ABR  2022.csv\n"
     ]
    },
    {
     "name": "stderr",
     "output_type": "stream",
     "text": [
      "C:\\Users\\ricar\\AppData\\Local\\Temp\\ipykernel_66208\\1512343715.py:62: DtypeWarning: Columns (1) have mixed types. Specify dtype option on import or set low_memory=False.\n",
      "  df = pd.read_csv(file_path)  # Asumiendo que existe una función pd.read_csv\n"
     ]
    },
    {
     "name": "stdout",
     "output_type": "stream",
     "text": [
      "Se encontraron 54584 registros dentro del polígono para el archivo archivos_homogenizados\\05 - 01 -15 MAY  2022.csv.\n",
      "Archivo filtrado y guardado: archivos_filtrados\\filtrado_05 - 01 -15 MAY  2022.csv\n"
     ]
    },
    {
     "name": "stderr",
     "output_type": "stream",
     "text": [
      "C:\\Users\\ricar\\AppData\\Local\\Temp\\ipykernel_66208\\1512343715.py:62: DtypeWarning: Columns (1) have mixed types. Specify dtype option on import or set low_memory=False.\n",
      "  df = pd.read_csv(file_path)  # Asumiendo que existe una función pd.read_csv\n"
     ]
    },
    {
     "name": "stdout",
     "output_type": "stream",
     "text": [
      "Se encontraron 57869 registros dentro del polígono para el archivo archivos_homogenizados\\05 - 16 -31 MAY  2022.csv.\n",
      "Archivo filtrado y guardado: archivos_filtrados\\filtrado_05 - 16 -31 MAY  2022.csv\n"
     ]
    },
    {
     "name": "stderr",
     "output_type": "stream",
     "text": [
      "C:\\Users\\ricar\\AppData\\Local\\Temp\\ipykernel_66208\\1512343715.py:62: DtypeWarning: Columns (1) have mixed types. Specify dtype option on import or set low_memory=False.\n",
      "  df = pd.read_csv(file_path)  # Asumiendo que existe una función pd.read_csv\n"
     ]
    },
    {
     "name": "stdout",
     "output_type": "stream",
     "text": [
      "Se encontraron 70560 registros dentro del polígono para el archivo archivos_homogenizados\\05- 01-31 MAY 2021.csv.\n",
      "Archivo filtrado y guardado: archivos_filtrados\\filtrado_05- 01-31 MAY 2021.csv\n"
     ]
    },
    {
     "name": "stderr",
     "output_type": "stream",
     "text": [
      "C:\\Users\\ricar\\AppData\\Local\\Temp\\ipykernel_66208\\1512343715.py:62: DtypeWarning: Columns (1) have mixed types. Specify dtype option on import or set low_memory=False.\n",
      "  df = pd.read_csv(file_path)  # Asumiendo que existe una función pd.read_csv\n"
     ]
    },
    {
     "name": "stdout",
     "output_type": "stream",
     "text": [
      "Se encontraron 71394 registros dentro del polígono para el archivo archivos_homogenizados\\06 - 01 - 30 JUN  2022.csv.\n",
      "Archivo filtrado y guardado: archivos_filtrados\\filtrado_06 - 01 - 30 JUN  2022.csv\n"
     ]
    },
    {
     "name": "stderr",
     "output_type": "stream",
     "text": [
      "C:\\Users\\ricar\\AppData\\Local\\Temp\\ipykernel_66208\\1512343715.py:62: DtypeWarning: Columns (1) have mixed types. Specify dtype option on import or set low_memory=False.\n",
      "  df = pd.read_csv(file_path)  # Asumiendo que existe una función pd.read_csv\n"
     ]
    },
    {
     "name": "stdout",
     "output_type": "stream",
     "text": [
      "Se encontraron 56022 registros dentro del polígono para el archivo archivos_homogenizados\\06- 01-30 JUN 2021.csv.\n",
      "Archivo filtrado y guardado: archivos_filtrados\\filtrado_06- 01-30 JUN 2021.csv\n"
     ]
    },
    {
     "name": "stderr",
     "output_type": "stream",
     "text": [
      "C:\\Users\\ricar\\AppData\\Local\\Temp\\ipykernel_66208\\1512343715.py:62: DtypeWarning: Columns (1) have mixed types. Specify dtype option on import or set low_memory=False.\n",
      "  df = pd.read_csv(file_path)  # Asumiendo que existe una función pd.read_csv\n"
     ]
    },
    {
     "name": "stdout",
     "output_type": "stream",
     "text": [
      "Se encontraron 61379 registros dentro del polígono para el archivo archivos_homogenizados\\07 - 01 - 31 JUL  2022.csv.\n",
      "Archivo filtrado y guardado: archivos_filtrados\\filtrado_07 - 01 - 31 JUL  2022.csv\n",
      "Se encontraron 47166 registros dentro del polígono para el archivo archivos_homogenizados\\08 - 01 - 31 AGO  2022.xlsx.\n",
      "Archivo filtrado y guardado: archivos_filtrados\\filtrado_08 - 01 - 31 AGO  2022.xlsx\n",
      "Se encontraron 25624 registros dentro del polígono para el archivo archivos_homogenizados\\09 - 01 -15 SEP  2022.xlsx.\n",
      "Archivo filtrado y guardado: archivos_filtrados\\filtrado_09 - 01 -15 SEP  2022.xlsx\n",
      "Se encontraron 32012 registros dentro del polígono para el archivo archivos_homogenizados\\09 - 16 -30 SEP  2022.xlsx.\n",
      "Archivo filtrado y guardado: archivos_filtrados\\filtrado_09 - 16 -30 SEP  2022.xlsx\n",
      "Se encontraron 31021 registros dentro del polígono para el archivo archivos_homogenizados\\10 - 01 -15 OCT  2022.xlsx.\n",
      "Archivo filtrado y guardado: archivos_filtrados\\filtrado_10 - 01 -15 OCT  2022.xlsx\n",
      "Se encontraron 32833 registros dentro del polígono para el archivo archivos_homogenizados\\10 - 16 -31 OCT  2022.xlsx.\n",
      "Archivo filtrado y guardado: archivos_filtrados\\filtrado_10 - 16 -31 OCT  2022.xlsx\n"
     ]
    },
    {
     "name": "stderr",
     "output_type": "stream",
     "text": [
      "C:\\Users\\ricar\\AppData\\Local\\Temp\\ipykernel_66208\\1512343715.py:62: DtypeWarning: Columns (1) have mixed types. Specify dtype option on import or set low_memory=False.\n",
      "  df = pd.read_csv(file_path)  # Asumiendo que existe una función pd.read_csv\n"
     ]
    },
    {
     "name": "stdout",
     "output_type": "stream",
     "text": [
      "Se encontraron 59441 registros dentro del polígono para el archivo archivos_homogenizados\\11 - 01 -15 NOV  2021.csv.\n",
      "Archivo filtrado y guardado: archivos_filtrados\\filtrado_11 - 01 -15 NOV  2021.csv\n",
      "Se encontraron 37790 registros dentro del polígono para el archivo archivos_homogenizados\\11 - 01 -15 NOV  2022.xlsx.\n",
      "Archivo filtrado y guardado: archivos_filtrados\\filtrado_11 - 01 -15 NOV  2022.xlsx\n"
     ]
    },
    {
     "name": "stderr",
     "output_type": "stream",
     "text": [
      "C:\\Users\\ricar\\AppData\\Local\\Temp\\ipykernel_66208\\1512343715.py:62: DtypeWarning: Columns (1) have mixed types. Specify dtype option on import or set low_memory=False.\n",
      "  df = pd.read_csv(file_path)  # Asumiendo que existe una función pd.read_csv\n"
     ]
    },
    {
     "name": "stdout",
     "output_type": "stream",
     "text": [
      "Se encontraron 38198 registros dentro del polígono para el archivo archivos_homogenizados\\11 - 16 -30 NOV  2021.csv.\n",
      "Archivo filtrado y guardado: archivos_filtrados\\filtrado_11 - 16 -30 NOV  2021.csv\n",
      "Se encontraron 42233 registros dentro del polígono para el archivo archivos_homogenizados\\11 - 16 -30 NOV  2022.xlsx.\n",
      "Archivo filtrado y guardado: archivos_filtrados\\filtrado_11 - 16 -30 NOV  2022.xlsx\n"
     ]
    },
    {
     "name": "stderr",
     "output_type": "stream",
     "text": [
      "C:\\Users\\ricar\\AppData\\Local\\Temp\\ipykernel_66208\\1512343715.py:62: DtypeWarning: Columns (1) have mixed types. Specify dtype option on import or set low_memory=False.\n",
      "  df = pd.read_csv(file_path)  # Asumiendo que existe una función pd.read_csv\n"
     ]
    },
    {
     "name": "stdout",
     "output_type": "stream",
     "text": [
      "Se encontraron 62880 registros dentro del polígono para el archivo archivos_homogenizados\\11-20-ABR-2018.csv.\n",
      "Archivo filtrado y guardado: archivos_filtrados\\filtrado_11-20-ABR-2018.csv\n"
     ]
    },
    {
     "name": "stderr",
     "output_type": "stream",
     "text": [
      "C:\\Users\\ricar\\AppData\\Local\\Temp\\ipykernel_66208\\1512343715.py:62: DtypeWarning: Columns (1) have mixed types. Specify dtype option on import or set low_memory=False.\n",
      "  df = pd.read_csv(file_path)  # Asumiendo que existe una función pd.read_csv\n"
     ]
    },
    {
     "name": "stdout",
     "output_type": "stream",
     "text": [
      "Se encontraron 44968 registros dentro del polígono para el archivo archivos_homogenizados\\11-20-ABR-2019.csv.\n",
      "Archivo filtrado y guardado: archivos_filtrados\\filtrado_11-20-ABR-2019.csv\n"
     ]
    },
    {
     "name": "stderr",
     "output_type": "stream",
     "text": [
      "C:\\Users\\ricar\\AppData\\Local\\Temp\\ipykernel_66208\\1512343715.py:62: DtypeWarning: Columns (1) have mixed types. Specify dtype option on import or set low_memory=False.\n",
      "  df = pd.read_csv(file_path)  # Asumiendo que existe una función pd.read_csv\n"
     ]
    },
    {
     "name": "stdout",
     "output_type": "stream",
     "text": [
      "Se encontraron 32537 registros dentro del polígono para el archivo archivos_homogenizados\\11-20-ABR-2020.csv.\n",
      "Archivo filtrado y guardado: archivos_filtrados\\filtrado_11-20-ABR-2020.csv\n"
     ]
    },
    {
     "name": "stderr",
     "output_type": "stream",
     "text": [
      "C:\\Users\\ricar\\AppData\\Local\\Temp\\ipykernel_66208\\1512343715.py:62: DtypeWarning: Columns (1) have mixed types. Specify dtype option on import or set low_memory=False.\n",
      "  df = pd.read_csv(file_path)  # Asumiendo que existe una función pd.read_csv\n"
     ]
    },
    {
     "name": "stdout",
     "output_type": "stream",
     "text": [
      "Se encontraron 28231 registros dentro del polígono para el archivo archivos_homogenizados\\11-20-AGO-2018.csv.\n",
      "Archivo filtrado y guardado: archivos_filtrados\\filtrado_11-20-AGO-2018.csv\n"
     ]
    },
    {
     "name": "stderr",
     "output_type": "stream",
     "text": [
      "C:\\Users\\ricar\\AppData\\Local\\Temp\\ipykernel_66208\\1512343715.py:62: DtypeWarning: Columns (1) have mixed types. Specify dtype option on import or set low_memory=False.\n",
      "  df = pd.read_csv(file_path)  # Asumiendo que existe una función pd.read_csv\n"
     ]
    },
    {
     "name": "stdout",
     "output_type": "stream",
     "text": [
      "Se encontraron 29842 registros dentro del polígono para el archivo archivos_homogenizados\\11-20-AGO-2019.csv.\n",
      "Archivo filtrado y guardado: archivos_filtrados\\filtrado_11-20-AGO-2019.csv\n"
     ]
    },
    {
     "name": "stderr",
     "output_type": "stream",
     "text": [
      "C:\\Users\\ricar\\AppData\\Local\\Temp\\ipykernel_66208\\1512343715.py:62: DtypeWarning: Columns (1) have mixed types. Specify dtype option on import or set low_memory=False.\n",
      "  df = pd.read_csv(file_path)  # Asumiendo que existe una función pd.read_csv\n"
     ]
    },
    {
     "name": "stdout",
     "output_type": "stream",
     "text": [
      "Se encontraron 38386 registros dentro del polígono para el archivo archivos_homogenizados\\11-20-AGO-2020.csv.\n",
      "Archivo filtrado y guardado: archivos_filtrados\\filtrado_11-20-AGO-2020.csv\n"
     ]
    },
    {
     "name": "stderr",
     "output_type": "stream",
     "text": [
      "C:\\Users\\ricar\\AppData\\Local\\Temp\\ipykernel_66208\\1512343715.py:62: DtypeWarning: Columns (1) have mixed types. Specify dtype option on import or set low_memory=False.\n",
      "  df = pd.read_csv(file_path)  # Asumiendo que existe una función pd.read_csv\n"
     ]
    },
    {
     "name": "stdout",
     "output_type": "stream",
     "text": [
      "Se encontraron 32797 registros dentro del polígono para el archivo archivos_homogenizados\\11-20-DIC-2018.csv.\n",
      "Archivo filtrado y guardado: archivos_filtrados\\filtrado_11-20-DIC-2018.csv\n"
     ]
    },
    {
     "name": "stderr",
     "output_type": "stream",
     "text": [
      "C:\\Users\\ricar\\AppData\\Local\\Temp\\ipykernel_66208\\1512343715.py:62: DtypeWarning: Columns (1) have mixed types. Specify dtype option on import or set low_memory=False.\n",
      "  df = pd.read_csv(file_path)  # Asumiendo que existe una función pd.read_csv\n"
     ]
    },
    {
     "name": "stdout",
     "output_type": "stream",
     "text": [
      "Se encontraron 33637 registros dentro del polígono para el archivo archivos_homogenizados\\11-20-DIC-2019.csv.\n",
      "Archivo filtrado y guardado: archivos_filtrados\\filtrado_11-20-DIC-2019.csv\n"
     ]
    },
    {
     "name": "stderr",
     "output_type": "stream",
     "text": [
      "C:\\Users\\ricar\\AppData\\Local\\Temp\\ipykernel_66208\\1512343715.py:62: DtypeWarning: Columns (1) have mixed types. Specify dtype option on import or set low_memory=False.\n",
      "  df = pd.read_csv(file_path)  # Asumiendo que existe una función pd.read_csv\n"
     ]
    },
    {
     "name": "stdout",
     "output_type": "stream",
     "text": [
      "Se encontraron 42202 registros dentro del polígono para el archivo archivos_homogenizados\\11-20-ENE-2018.csv.\n",
      "Archivo filtrado y guardado: archivos_filtrados\\filtrado_11-20-ENE-2018.csv\n"
     ]
    },
    {
     "name": "stderr",
     "output_type": "stream",
     "text": [
      "C:\\Users\\ricar\\AppData\\Local\\Temp\\ipykernel_66208\\1512343715.py:62: DtypeWarning: Columns (1) have mixed types. Specify dtype option on import or set low_memory=False.\n",
      "  df = pd.read_csv(file_path)  # Asumiendo que existe una función pd.read_csv\n"
     ]
    },
    {
     "name": "stdout",
     "output_type": "stream",
     "text": [
      "Se encontraron 38283 registros dentro del polígono para el archivo archivos_homogenizados\\11-20-ENE-2019.csv.\n",
      "Archivo filtrado y guardado: archivos_filtrados\\filtrado_11-20-ENE-2019.csv\n"
     ]
    },
    {
     "name": "stderr",
     "output_type": "stream",
     "text": [
      "C:\\Users\\ricar\\AppData\\Local\\Temp\\ipykernel_66208\\1512343715.py:62: DtypeWarning: Columns (1) have mixed types. Specify dtype option on import or set low_memory=False.\n",
      "  df = pd.read_csv(file_path)  # Asumiendo que existe una función pd.read_csv\n"
     ]
    },
    {
     "name": "stdout",
     "output_type": "stream",
     "text": [
      "Se encontraron 43393 registros dentro del polígono para el archivo archivos_homogenizados\\11-20-ENE-2020.csv.\n",
      "Archivo filtrado y guardado: archivos_filtrados\\filtrado_11-20-ENE-2020.csv\n",
      "Se encontraron 38854 registros dentro del polígono para el archivo archivos_homogenizados\\11-20-FEB-2018.xlsx.\n",
      "Archivo filtrado y guardado: archivos_filtrados\\filtrado_11-20-FEB-2018.xlsx\n"
     ]
    },
    {
     "name": "stderr",
     "output_type": "stream",
     "text": [
      "C:\\Users\\ricar\\AppData\\Local\\Temp\\ipykernel_66208\\1512343715.py:62: DtypeWarning: Columns (1) have mixed types. Specify dtype option on import or set low_memory=False.\n",
      "  df = pd.read_csv(file_path)  # Asumiendo que existe una función pd.read_csv\n"
     ]
    },
    {
     "name": "stdout",
     "output_type": "stream",
     "text": [
      "Se encontraron 38933 registros dentro del polígono para el archivo archivos_homogenizados\\11-20-FEB-2019.csv.\n",
      "Archivo filtrado y guardado: archivos_filtrados\\filtrado_11-20-FEB-2019.csv\n"
     ]
    },
    {
     "name": "stderr",
     "output_type": "stream",
     "text": [
      "C:\\Users\\ricar\\AppData\\Local\\Temp\\ipykernel_66208\\1512343715.py:62: DtypeWarning: Columns (1) have mixed types. Specify dtype option on import or set low_memory=False.\n",
      "  df = pd.read_csv(file_path)  # Asumiendo que existe una función pd.read_csv\n"
     ]
    },
    {
     "name": "stdout",
     "output_type": "stream",
     "text": [
      "Se encontraron 34872 registros dentro del polígono para el archivo archivos_homogenizados\\11-20-FEB-2020.csv.\n",
      "Archivo filtrado y guardado: archivos_filtrados\\filtrado_11-20-FEB-2020.csv\n"
     ]
    },
    {
     "name": "stderr",
     "output_type": "stream",
     "text": [
      "C:\\Users\\ricar\\AppData\\Local\\Temp\\ipykernel_66208\\1512343715.py:62: DtypeWarning: Columns (1) have mixed types. Specify dtype option on import or set low_memory=False.\n",
      "  df = pd.read_csv(file_path)  # Asumiendo que existe una función pd.read_csv\n"
     ]
    },
    {
     "name": "stdout",
     "output_type": "stream",
     "text": [
      "Se encontraron 32486 registros dentro del polígono para el archivo archivos_homogenizados\\11-20-JUL-2018.csv.\n",
      "Archivo filtrado y guardado: archivos_filtrados\\filtrado_11-20-JUL-2018.csv\n"
     ]
    },
    {
     "name": "stderr",
     "output_type": "stream",
     "text": [
      "C:\\Users\\ricar\\AppData\\Local\\Temp\\ipykernel_66208\\1512343715.py:62: DtypeWarning: Columns (1) have mixed types. Specify dtype option on import or set low_memory=False.\n",
      "  df = pd.read_csv(file_path)  # Asumiendo que existe una función pd.read_csv\n"
     ]
    },
    {
     "name": "stdout",
     "output_type": "stream",
     "text": [
      "Se encontraron 33199 registros dentro del polígono para el archivo archivos_homogenizados\\11-20-JUL-2019.csv.\n",
      "Archivo filtrado y guardado: archivos_filtrados\\filtrado_11-20-JUL-2019.csv\n"
     ]
    },
    {
     "name": "stderr",
     "output_type": "stream",
     "text": [
      "C:\\Users\\ricar\\AppData\\Local\\Temp\\ipykernel_66208\\1512343715.py:62: DtypeWarning: Columns (1) have mixed types. Specify dtype option on import or set low_memory=False.\n",
      "  df = pd.read_csv(file_path)  # Asumiendo que existe una función pd.read_csv\n"
     ]
    },
    {
     "name": "stdout",
     "output_type": "stream",
     "text": [
      "Se encontraron 21879 registros dentro del polígono para el archivo archivos_homogenizados\\11-20-JUL-2020.csv.\n",
      "Archivo filtrado y guardado: archivos_filtrados\\filtrado_11-20-JUL-2020.csv\n"
     ]
    },
    {
     "name": "stderr",
     "output_type": "stream",
     "text": [
      "C:\\Users\\ricar\\AppData\\Local\\Temp\\ipykernel_66208\\1512343715.py:62: DtypeWarning: Columns (1) have mixed types. Specify dtype option on import or set low_memory=False.\n",
      "  df = pd.read_csv(file_path)  # Asumiendo que existe una función pd.read_csv\n"
     ]
    },
    {
     "name": "stdout",
     "output_type": "stream",
     "text": [
      "Se encontraron 44106 registros dentro del polígono para el archivo archivos_homogenizados\\11-20-JUN-2018.csv.\n",
      "Archivo filtrado y guardado: archivos_filtrados\\filtrado_11-20-JUN-2018.csv\n"
     ]
    },
    {
     "name": "stderr",
     "output_type": "stream",
     "text": [
      "C:\\Users\\ricar\\AppData\\Local\\Temp\\ipykernel_66208\\1512343715.py:62: DtypeWarning: Columns (1) have mixed types. Specify dtype option on import or set low_memory=False.\n",
      "  df = pd.read_csv(file_path)  # Asumiendo que existe una función pd.read_csv\n"
     ]
    },
    {
     "name": "stdout",
     "output_type": "stream",
     "text": [
      "Se encontraron 32592 registros dentro del polígono para el archivo archivos_homogenizados\\11-20-JUN-2019.csv.\n",
      "Archivo filtrado y guardado: archivos_filtrados\\filtrado_11-20-JUN-2019.csv\n"
     ]
    },
    {
     "name": "stderr",
     "output_type": "stream",
     "text": [
      "C:\\Users\\ricar\\AppData\\Local\\Temp\\ipykernel_66208\\1512343715.py:62: DtypeWarning: Columns (1) have mixed types. Specify dtype option on import or set low_memory=False.\n",
      "  df = pd.read_csv(file_path)  # Asumiendo que existe una función pd.read_csv\n"
     ]
    },
    {
     "name": "stdout",
     "output_type": "stream",
     "text": [
      "Se encontraron 24268 registros dentro del polígono para el archivo archivos_homogenizados\\11-20-JUN-2020.csv.\n",
      "Archivo filtrado y guardado: archivos_filtrados\\filtrado_11-20-JUN-2020.csv\n"
     ]
    },
    {
     "name": "stderr",
     "output_type": "stream",
     "text": [
      "C:\\Users\\ricar\\AppData\\Local\\Temp\\ipykernel_66208\\1512343715.py:62: DtypeWarning: Columns (1) have mixed types. Specify dtype option on import or set low_memory=False.\n",
      "  df = pd.read_csv(file_path)  # Asumiendo que existe una función pd.read_csv\n"
     ]
    },
    {
     "name": "stdout",
     "output_type": "stream",
     "text": [
      "Se encontraron 40850 registros dentro del polígono para el archivo archivos_homogenizados\\11-20-MAR-2018.csv.\n",
      "Archivo filtrado y guardado: archivos_filtrados\\filtrado_11-20-MAR-2018.csv\n"
     ]
    },
    {
     "name": "stderr",
     "output_type": "stream",
     "text": [
      "C:\\Users\\ricar\\AppData\\Local\\Temp\\ipykernel_66208\\1512343715.py:62: DtypeWarning: Columns (1) have mixed types. Specify dtype option on import or set low_memory=False.\n",
      "  df = pd.read_csv(file_path)  # Asumiendo que existe una función pd.read_csv\n"
     ]
    },
    {
     "name": "stdout",
     "output_type": "stream",
     "text": [
      "Se encontraron 33440 registros dentro del polígono para el archivo archivos_homogenizados\\11-20-MAR-2019.csv.\n",
      "Archivo filtrado y guardado: archivos_filtrados\\filtrado_11-20-MAR-2019.csv\n"
     ]
    },
    {
     "name": "stderr",
     "output_type": "stream",
     "text": [
      "C:\\Users\\ricar\\AppData\\Local\\Temp\\ipykernel_66208\\1512343715.py:62: DtypeWarning: Columns (1) have mixed types. Specify dtype option on import or set low_memory=False.\n",
      "  df = pd.read_csv(file_path)  # Asumiendo que existe una función pd.read_csv\n"
     ]
    },
    {
     "name": "stdout",
     "output_type": "stream",
     "text": [
      "Se encontraron 33518 registros dentro del polígono para el archivo archivos_homogenizados\\11-20-MAR-2020.csv.\n",
      "Archivo filtrado y guardado: archivos_filtrados\\filtrado_11-20-MAR-2020.csv\n"
     ]
    },
    {
     "name": "stderr",
     "output_type": "stream",
     "text": [
      "C:\\Users\\ricar\\AppData\\Local\\Temp\\ipykernel_66208\\1512343715.py:62: DtypeWarning: Columns (1) have mixed types. Specify dtype option on import or set low_memory=False.\n",
      "  df = pd.read_csv(file_path)  # Asumiendo que existe una función pd.read_csv\n"
     ]
    },
    {
     "name": "stdout",
     "output_type": "stream",
     "text": [
      "Se encontraron 60966 registros dentro del polígono para el archivo archivos_homogenizados\\11-20-MAY-2018.csv.\n",
      "Archivo filtrado y guardado: archivos_filtrados\\filtrado_11-20-MAY-2018.csv\n"
     ]
    },
    {
     "name": "stderr",
     "output_type": "stream",
     "text": [
      "C:\\Users\\ricar\\AppData\\Local\\Temp\\ipykernel_66208\\1512343715.py:62: DtypeWarning: Columns (1) have mixed types. Specify dtype option on import or set low_memory=False.\n",
      "  df = pd.read_csv(file_path)  # Asumiendo que existe una función pd.read_csv\n"
     ]
    },
    {
     "name": "stdout",
     "output_type": "stream",
     "text": [
      "Se encontraron 42898 registros dentro del polígono para el archivo archivos_homogenizados\\11-20-MAY-2019.csv.\n",
      "Archivo filtrado y guardado: archivos_filtrados\\filtrado_11-20-MAY-2019.csv\n"
     ]
    },
    {
     "name": "stderr",
     "output_type": "stream",
     "text": [
      "C:\\Users\\ricar\\AppData\\Local\\Temp\\ipykernel_66208\\1512343715.py:62: DtypeWarning: Columns (1) have mixed types. Specify dtype option on import or set low_memory=False.\n",
      "  df = pd.read_csv(file_path)  # Asumiendo que existe una función pd.read_csv\n"
     ]
    },
    {
     "name": "stdout",
     "output_type": "stream",
     "text": [
      "Se encontraron 38411 registros dentro del polígono para el archivo archivos_homogenizados\\11-20-MAY-2020.csv.\n",
      "Archivo filtrado y guardado: archivos_filtrados\\filtrado_11-20-MAY-2020.csv\n"
     ]
    },
    {
     "name": "stderr",
     "output_type": "stream",
     "text": [
      "C:\\Users\\ricar\\AppData\\Local\\Temp\\ipykernel_66208\\1512343715.py:62: DtypeWarning: Columns (1) have mixed types. Specify dtype option on import or set low_memory=False.\n",
      "  df = pd.read_csv(file_path)  # Asumiendo que existe una función pd.read_csv\n"
     ]
    },
    {
     "name": "stdout",
     "output_type": "stream",
     "text": [
      "Se encontraron 30788 registros dentro del polígono para el archivo archivos_homogenizados\\11-20-NOV-2018.csv.\n",
      "Archivo filtrado y guardado: archivos_filtrados\\filtrado_11-20-NOV-2018.csv\n"
     ]
    },
    {
     "name": "stderr",
     "output_type": "stream",
     "text": [
      "C:\\Users\\ricar\\AppData\\Local\\Temp\\ipykernel_66208\\1512343715.py:62: DtypeWarning: Columns (1) have mixed types. Specify dtype option on import or set low_memory=False.\n",
      "  df = pd.read_csv(file_path)  # Asumiendo que existe una función pd.read_csv\n"
     ]
    },
    {
     "name": "stdout",
     "output_type": "stream",
     "text": [
      "Se encontraron 48668 registros dentro del polígono para el archivo archivos_homogenizados\\11-20-NOV-2019.csv.\n",
      "Archivo filtrado y guardado: archivos_filtrados\\filtrado_11-20-NOV-2019.csv\n"
     ]
    },
    {
     "name": "stderr",
     "output_type": "stream",
     "text": [
      "C:\\Users\\ricar\\AppData\\Local\\Temp\\ipykernel_66208\\1512343715.py:62: DtypeWarning: Columns (1) have mixed types. Specify dtype option on import or set low_memory=False.\n",
      "  df = pd.read_csv(file_path)  # Asumiendo que existe una función pd.read_csv\n"
     ]
    },
    {
     "name": "stdout",
     "output_type": "stream",
     "text": [
      "Se encontraron 34606 registros dentro del polígono para el archivo archivos_homogenizados\\11-20-OCT-2018.csv.\n",
      "Archivo filtrado y guardado: archivos_filtrados\\filtrado_11-20-OCT-2018.csv\n"
     ]
    },
    {
     "name": "stderr",
     "output_type": "stream",
     "text": [
      "C:\\Users\\ricar\\AppData\\Local\\Temp\\ipykernel_66208\\1512343715.py:62: DtypeWarning: Columns (1) have mixed types. Specify dtype option on import or set low_memory=False.\n",
      "  df = pd.read_csv(file_path)  # Asumiendo que existe una función pd.read_csv\n"
     ]
    },
    {
     "name": "stdout",
     "output_type": "stream",
     "text": [
      "Se encontraron 23026 registros dentro del polígono para el archivo archivos_homogenizados\\11-20-OCT-2019.csv.\n",
      "Archivo filtrado y guardado: archivos_filtrados\\filtrado_11-20-OCT-2019.csv\n"
     ]
    },
    {
     "name": "stderr",
     "output_type": "stream",
     "text": [
      "C:\\Users\\ricar\\AppData\\Local\\Temp\\ipykernel_66208\\1512343715.py:62: DtypeWarning: Columns (1) have mixed types. Specify dtype option on import or set low_memory=False.\n",
      "  df = pd.read_csv(file_path)  # Asumiendo que existe una función pd.read_csv\n"
     ]
    },
    {
     "name": "stdout",
     "output_type": "stream",
     "text": [
      "Se encontraron 27236 registros dentro del polígono para el archivo archivos_homogenizados\\11-20-SEP-2018.csv.\n",
      "Archivo filtrado y guardado: archivos_filtrados\\filtrado_11-20-SEP-2018.csv\n"
     ]
    },
    {
     "name": "stderr",
     "output_type": "stream",
     "text": [
      "C:\\Users\\ricar\\AppData\\Local\\Temp\\ipykernel_66208\\1512343715.py:62: DtypeWarning: Columns (1) have mixed types. Specify dtype option on import or set low_memory=False.\n",
      "  df = pd.read_csv(file_path)  # Asumiendo que existe una función pd.read_csv\n"
     ]
    },
    {
     "name": "stdout",
     "output_type": "stream",
     "text": [
      "Se encontraron 11583 registros dentro del polígono para el archivo archivos_homogenizados\\11-20-SEP-2019.csv.\n",
      "Archivo filtrado y guardado: archivos_filtrados\\filtrado_11-20-SEP-2019.csv\n"
     ]
    },
    {
     "name": "stderr",
     "output_type": "stream",
     "text": [
      "C:\\Users\\ricar\\AppData\\Local\\Temp\\ipykernel_66208\\1512343715.py:62: DtypeWarning: Columns (1) have mixed types. Specify dtype option on import or set low_memory=False.\n",
      "  df = pd.read_csv(file_path)  # Asumiendo que existe una función pd.read_csv\n"
     ]
    },
    {
     "name": "stdout",
     "output_type": "stream",
     "text": [
      "Se encontraron 33657 registros dentro del polígono para el archivo archivos_homogenizados\\11-20-SEP-2020.csv.\n",
      "Archivo filtrado y guardado: archivos_filtrados\\filtrado_11-20-SEP-2020.csv\n",
      "Se encontraron 36220 registros dentro del polígono para el archivo archivos_homogenizados\\12 - 16 -31 DIC  2022.xlsx.\n",
      "Archivo filtrado y guardado: archivos_filtrados\\filtrado_12 - 16 -31 DIC  2022.xlsx\n"
     ]
    },
    {
     "name": "stderr",
     "output_type": "stream",
     "text": [
      "C:\\Users\\ricar\\AppData\\Local\\Temp\\ipykernel_66208\\1512343715.py:62: DtypeWarning: Columns (1) have mixed types. Specify dtype option on import or set low_memory=False.\n",
      "  df = pd.read_csv(file_path)  # Asumiendo que existe una función pd.read_csv\n"
     ]
    },
    {
     "name": "stdout",
     "output_type": "stream",
     "text": [
      "Se encontraron 50206 registros dentro del polígono para el archivo archivos_homogenizados\\16-30 MARZO 2021.csv.\n",
      "Archivo filtrado y guardado: archivos_filtrados\\filtrado_16-30 MARZO 2021.csv\n"
     ]
    },
    {
     "name": "stderr",
     "output_type": "stream",
     "text": [
      "C:\\Users\\ricar\\AppData\\Local\\Temp\\ipykernel_66208\\1512343715.py:62: DtypeWarning: Columns (1) have mixed types. Specify dtype option on import or set low_memory=False.\n",
      "  df = pd.read_csv(file_path)  # Asumiendo que existe una función pd.read_csv\n"
     ]
    },
    {
     "name": "stdout",
     "output_type": "stream",
     "text": [
      "Se encontraron 40302 registros dentro del polígono para el archivo archivos_homogenizados\\16-30 NOV 2020.csv.\n",
      "Archivo filtrado y guardado: archivos_filtrados\\filtrado_16-30 NOV 2020.csv\n"
     ]
    },
    {
     "name": "stderr",
     "output_type": "stream",
     "text": [
      "C:\\Users\\ricar\\AppData\\Local\\Temp\\ipykernel_66208\\1512343715.py:62: DtypeWarning: Columns (1) have mixed types. Specify dtype option on import or set low_memory=False.\n",
      "  df = pd.read_csv(file_path)  # Asumiendo que existe una función pd.read_csv\n"
     ]
    },
    {
     "name": "stdout",
     "output_type": "stream",
     "text": [
      "Se encontraron 47166 registros dentro del polígono para el archivo archivos_homogenizados\\16-31 DIC 2020.csv.\n",
      "Archivo filtrado y guardado: archivos_filtrados\\filtrado_16-31 DIC 2020.csv\n"
     ]
    },
    {
     "name": "stderr",
     "output_type": "stream",
     "text": [
      "C:\\Users\\ricar\\AppData\\Local\\Temp\\ipykernel_66208\\1512343715.py:62: DtypeWarning: Columns (1) have mixed types. Specify dtype option on import or set low_memory=False.\n",
      "  df = pd.read_csv(file_path)  # Asumiendo que existe una función pd.read_csv\n"
     ]
    },
    {
     "name": "stdout",
     "output_type": "stream",
     "text": [
      "Se encontraron 41249 registros dentro del polígono para el archivo archivos_homogenizados\\16-31 DIC 2021.csv.\n",
      "Archivo filtrado y guardado: archivos_filtrados\\filtrado_16-31 DIC 2021.csv\n"
     ]
    },
    {
     "name": "stderr",
     "output_type": "stream",
     "text": [
      "C:\\Users\\ricar\\AppData\\Local\\Temp\\ipykernel_66208\\1512343715.py:62: DtypeWarning: Columns (1) have mixed types. Specify dtype option on import or set low_memory=False.\n",
      "  df = pd.read_csv(file_path)  # Asumiendo que existe una función pd.read_csv\n"
     ]
    },
    {
     "name": "stdout",
     "output_type": "stream",
     "text": [
      "Se encontraron 54431 registros dentro del polígono para el archivo archivos_homogenizados\\16-31 ENE 2021.csv.\n",
      "Archivo filtrado y guardado: archivos_filtrados\\filtrado_16-31 ENE 2021.csv\n"
     ]
    },
    {
     "name": "stderr",
     "output_type": "stream",
     "text": [
      "C:\\Users\\ricar\\AppData\\Local\\Temp\\ipykernel_66208\\1512343715.py:62: DtypeWarning: Columns (1) have mixed types. Specify dtype option on import or set low_memory=False.\n",
      "  df = pd.read_csv(file_path)  # Asumiendo que existe una función pd.read_csv\n"
     ]
    },
    {
     "name": "stdout",
     "output_type": "stream",
     "text": [
      "Se encontraron 71181 registros dentro del polígono para el archivo archivos_homogenizados\\16-31 ENE 2022.csv.\n",
      "Archivo filtrado y guardado: archivos_filtrados\\filtrado_16-31 ENE 2022.csv\n"
     ]
    },
    {
     "name": "stderr",
     "output_type": "stream",
     "text": [
      "C:\\Users\\ricar\\AppData\\Local\\Temp\\ipykernel_66208\\1512343715.py:62: DtypeWarning: Columns (1) have mixed types. Specify dtype option on import or set low_memory=False.\n",
      "  df = pd.read_csv(file_path)  # Asumiendo que existe una función pd.read_csv\n"
     ]
    },
    {
     "name": "stdout",
     "output_type": "stream",
     "text": [
      "Se encontraron 34352 registros dentro del polígono para el archivo archivos_homogenizados\\16-31 OCT 2020.csv.\n",
      "Archivo filtrado y guardado: archivos_filtrados\\filtrado_16-31 OCT 2020.csv\n"
     ]
    },
    {
     "name": "stderr",
     "output_type": "stream",
     "text": [
      "C:\\Users\\ricar\\AppData\\Local\\Temp\\ipykernel_66208\\1512343715.py:62: DtypeWarning: Columns (1) have mixed types. Specify dtype option on import or set low_memory=False.\n",
      "  df = pd.read_csv(file_path)  # Asumiendo que existe una función pd.read_csv\n"
     ]
    },
    {
     "name": "stdout",
     "output_type": "stream",
     "text": [
      "Se encontraron 23697 registros dentro del polígono para el archivo archivos_homogenizados\\21-25-OCT-2018.csv.\n",
      "Archivo filtrado y guardado: archivos_filtrados\\filtrado_21-25-OCT-2018.csv\n"
     ]
    },
    {
     "name": "stderr",
     "output_type": "stream",
     "text": [
      "C:\\Users\\ricar\\AppData\\Local\\Temp\\ipykernel_66208\\1512343715.py:62: DtypeWarning: Columns (1) have mixed types. Specify dtype option on import or set low_memory=False.\n",
      "  df = pd.read_csv(file_path)  # Asumiendo que existe una función pd.read_csv\n"
     ]
    },
    {
     "name": "stdout",
     "output_type": "stream",
     "text": [
      "Se encontraron 6596 registros dentro del polígono para el archivo archivos_homogenizados\\21-25-SEP-2018.csv.\n",
      "Archivo filtrado y guardado: archivos_filtrados\\filtrado_21-25-SEP-2018.csv\n"
     ]
    },
    {
     "name": "stderr",
     "output_type": "stream",
     "text": [
      "C:\\Users\\ricar\\AppData\\Local\\Temp\\ipykernel_66208\\1512343715.py:62: DtypeWarning: Columns (1) have mixed types. Specify dtype option on import or set low_memory=False.\n",
      "  df = pd.read_csv(file_path)  # Asumiendo que existe una función pd.read_csv\n"
     ]
    },
    {
     "name": "stdout",
     "output_type": "stream",
     "text": [
      "Se encontraron 33085 registros dentro del polígono para el archivo archivos_homogenizados\\21-28-FEB-2018.csv.\n",
      "Archivo filtrado y guardado: archivos_filtrados\\filtrado_21-28-FEB-2018.csv\n"
     ]
    },
    {
     "name": "stderr",
     "output_type": "stream",
     "text": [
      "C:\\Users\\ricar\\AppData\\Local\\Temp\\ipykernel_66208\\1512343715.py:62: DtypeWarning: Columns (1) have mixed types. Specify dtype option on import or set low_memory=False.\n",
      "  df = pd.read_csv(file_path)  # Asumiendo que existe una función pd.read_csv\n"
     ]
    },
    {
     "name": "stdout",
     "output_type": "stream",
     "text": [
      "Se encontraron 33108 registros dentro del polígono para el archivo archivos_homogenizados\\21-28-FEB-2019.csv.\n",
      "Archivo filtrado y guardado: archivos_filtrados\\filtrado_21-28-FEB-2019.csv\n"
     ]
    },
    {
     "name": "stderr",
     "output_type": "stream",
     "text": [
      "C:\\Users\\ricar\\AppData\\Local\\Temp\\ipykernel_66208\\1512343715.py:62: DtypeWarning: Columns (1) have mixed types. Specify dtype option on import or set low_memory=False.\n",
      "  df = pd.read_csv(file_path)  # Asumiendo que existe una función pd.read_csv\n"
     ]
    },
    {
     "name": "stdout",
     "output_type": "stream",
     "text": [
      "Se encontraron 32054 registros dentro del polígono para el archivo archivos_homogenizados\\21-29-FEB-2020.csv.\n",
      "Archivo filtrado y guardado: archivos_filtrados\\filtrado_21-29-FEB-2020.csv\n"
     ]
    },
    {
     "name": "stderr",
     "output_type": "stream",
     "text": [
      "C:\\Users\\ricar\\AppData\\Local\\Temp\\ipykernel_66208\\1512343715.py:62: DtypeWarning: Columns (1) have mixed types. Specify dtype option on import or set low_memory=False.\n",
      "  df = pd.read_csv(file_path)  # Asumiendo que existe una función pd.read_csv\n"
     ]
    },
    {
     "name": "stdout",
     "output_type": "stream",
     "text": [
      "Se encontraron 58269 registros dentro del polígono para el archivo archivos_homogenizados\\21-30-ABR-2018.csv.\n",
      "Archivo filtrado y guardado: archivos_filtrados\\filtrado_21-30-ABR-2018.csv\n"
     ]
    },
    {
     "name": "stderr",
     "output_type": "stream",
     "text": [
      "C:\\Users\\ricar\\AppData\\Local\\Temp\\ipykernel_66208\\1512343715.py:62: DtypeWarning: Columns (1) have mixed types. Specify dtype option on import or set low_memory=False.\n",
      "  df = pd.read_csv(file_path)  # Asumiendo que existe una función pd.read_csv\n"
     ]
    },
    {
     "name": "stdout",
     "output_type": "stream",
     "text": [
      "Se encontraron 35240 registros dentro del polígono para el archivo archivos_homogenizados\\21-30-ABR-2019.csv.\n",
      "Archivo filtrado y guardado: archivos_filtrados\\filtrado_21-30-ABR-2019.csv\n"
     ]
    },
    {
     "name": "stderr",
     "output_type": "stream",
     "text": [
      "C:\\Users\\ricar\\AppData\\Local\\Temp\\ipykernel_66208\\1512343715.py:62: DtypeWarning: Columns (1) have mixed types. Specify dtype option on import or set low_memory=False.\n",
      "  df = pd.read_csv(file_path)  # Asumiendo que existe una función pd.read_csv\n"
     ]
    },
    {
     "name": "stdout",
     "output_type": "stream",
     "text": [
      "Se encontraron 33268 registros dentro del polígono para el archivo archivos_homogenizados\\21-30-ABR-2020.csv.\n",
      "Archivo filtrado y guardado: archivos_filtrados\\filtrado_21-30-ABR-2020.csv\n"
     ]
    },
    {
     "name": "stderr",
     "output_type": "stream",
     "text": [
      "C:\\Users\\ricar\\AppData\\Local\\Temp\\ipykernel_66208\\1512343715.py:62: DtypeWarning: Columns (1) have mixed types. Specify dtype option on import or set low_memory=False.\n",
      "  df = pd.read_csv(file_path)  # Asumiendo que existe una función pd.read_csv\n"
     ]
    },
    {
     "name": "stdout",
     "output_type": "stream",
     "text": [
      "Se encontraron 41308 registros dentro del polígono para el archivo archivos_homogenizados\\21-30-JUN-2018.csv.\n",
      "Archivo filtrado y guardado: archivos_filtrados\\filtrado_21-30-JUN-2018.csv\n"
     ]
    },
    {
     "name": "stderr",
     "output_type": "stream",
     "text": [
      "C:\\Users\\ricar\\AppData\\Local\\Temp\\ipykernel_66208\\1512343715.py:62: DtypeWarning: Columns (1) have mixed types. Specify dtype option on import or set low_memory=False.\n",
      "  df = pd.read_csv(file_path)  # Asumiendo que existe una función pd.read_csv\n"
     ]
    },
    {
     "name": "stdout",
     "output_type": "stream",
     "text": [
      "Se encontraron 31441 registros dentro del polígono para el archivo archivos_homogenizados\\21-30-JUN-2019.csv.\n",
      "Archivo filtrado y guardado: archivos_filtrados\\filtrado_21-30-JUN-2019.csv\n"
     ]
    },
    {
     "name": "stderr",
     "output_type": "stream",
     "text": [
      "C:\\Users\\ricar\\AppData\\Local\\Temp\\ipykernel_66208\\1512343715.py:62: DtypeWarning: Columns (1) have mixed types. Specify dtype option on import or set low_memory=False.\n",
      "  df = pd.read_csv(file_path)  # Asumiendo que existe una función pd.read_csv\n"
     ]
    },
    {
     "name": "stdout",
     "output_type": "stream",
     "text": [
      "Se encontraron 26512 registros dentro del polígono para el archivo archivos_homogenizados\\21-30-JUN-2020.csv.\n",
      "Archivo filtrado y guardado: archivos_filtrados\\filtrado_21-30-JUN-2020.csv\n"
     ]
    },
    {
     "name": "stderr",
     "output_type": "stream",
     "text": [
      "C:\\Users\\ricar\\AppData\\Local\\Temp\\ipykernel_66208\\1512343715.py:62: DtypeWarning: Columns (1) have mixed types. Specify dtype option on import or set low_memory=False.\n",
      "  df = pd.read_csv(file_path)  # Asumiendo que existe una función pd.read_csv\n"
     ]
    },
    {
     "name": "stdout",
     "output_type": "stream",
     "text": [
      "Se encontraron 30304 registros dentro del polígono para el archivo archivos_homogenizados\\21-30-NOV-2018.csv.\n",
      "Archivo filtrado y guardado: archivos_filtrados\\filtrado_21-30-NOV-2018.csv\n"
     ]
    },
    {
     "name": "stderr",
     "output_type": "stream",
     "text": [
      "C:\\Users\\ricar\\AppData\\Local\\Temp\\ipykernel_66208\\1512343715.py:62: DtypeWarning: Columns (1) have mixed types. Specify dtype option on import or set low_memory=False.\n",
      "  df = pd.read_csv(file_path)  # Asumiendo que existe una función pd.read_csv\n"
     ]
    },
    {
     "name": "stdout",
     "output_type": "stream",
     "text": [
      "Se encontraron 35185 registros dentro del polígono para el archivo archivos_homogenizados\\21-30-NOV-2019.csv.\n",
      "Archivo filtrado y guardado: archivos_filtrados\\filtrado_21-30-NOV-2019.csv\n"
     ]
    },
    {
     "name": "stderr",
     "output_type": "stream",
     "text": [
      "C:\\Users\\ricar\\AppData\\Local\\Temp\\ipykernel_66208\\1512343715.py:62: DtypeWarning: Columns (1) have mixed types. Specify dtype option on import or set low_memory=False.\n",
      "  df = pd.read_csv(file_path)  # Asumiendo que existe una función pd.read_csv\n"
     ]
    },
    {
     "name": "stdout",
     "output_type": "stream",
     "text": [
      "Se encontraron 13028 registros dentro del polígono para el archivo archivos_homogenizados\\21-30-SEP-2019.csv.\n",
      "Archivo filtrado y guardado: archivos_filtrados\\filtrado_21-30-SEP-2019.csv\n"
     ]
    },
    {
     "name": "stderr",
     "output_type": "stream",
     "text": [
      "C:\\Users\\ricar\\AppData\\Local\\Temp\\ipykernel_66208\\1512343715.py:62: DtypeWarning: Columns (1) have mixed types. Specify dtype option on import or set low_memory=False.\n",
      "  df = pd.read_csv(file_path)  # Asumiendo que existe una función pd.read_csv\n"
     ]
    },
    {
     "name": "stdout",
     "output_type": "stream",
     "text": [
      "Se encontraron 32181 registros dentro del polígono para el archivo archivos_homogenizados\\21-30-SEP-2020.csv.\n",
      "Archivo filtrado y guardado: archivos_filtrados\\filtrado_21-30-SEP-2020.csv\n"
     ]
    },
    {
     "name": "stderr",
     "output_type": "stream",
     "text": [
      "C:\\Users\\ricar\\AppData\\Local\\Temp\\ipykernel_66208\\1512343715.py:62: DtypeWarning: Columns (1) have mixed types. Specify dtype option on import or set low_memory=False.\n",
      "  df = pd.read_csv(file_path)  # Asumiendo que existe una función pd.read_csv\n"
     ]
    },
    {
     "name": "stdout",
     "output_type": "stream",
     "text": [
      "Se encontraron 29602 registros dentro del polígono para el archivo archivos_homogenizados\\21-31-AGO-2018.csv.\n",
      "Archivo filtrado y guardado: archivos_filtrados\\filtrado_21-31-AGO-2018.csv\n"
     ]
    },
    {
     "name": "stderr",
     "output_type": "stream",
     "text": [
      "C:\\Users\\ricar\\AppData\\Local\\Temp\\ipykernel_66208\\1512343715.py:62: DtypeWarning: Columns (1) have mixed types. Specify dtype option on import or set low_memory=False.\n",
      "  df = pd.read_csv(file_path)  # Asumiendo que existe una función pd.read_csv\n"
     ]
    },
    {
     "name": "stdout",
     "output_type": "stream",
     "text": [
      "Se encontraron 36792 registros dentro del polígono para el archivo archivos_homogenizados\\21-31-AGO-2019.csv.\n",
      "Archivo filtrado y guardado: archivos_filtrados\\filtrado_21-31-AGO-2019.csv\n"
     ]
    },
    {
     "name": "stderr",
     "output_type": "stream",
     "text": [
      "C:\\Users\\ricar\\AppData\\Local\\Temp\\ipykernel_66208\\1512343715.py:62: DtypeWarning: Columns (1) have mixed types. Specify dtype option on import or set low_memory=False.\n",
      "  df = pd.read_csv(file_path)  # Asumiendo que existe una función pd.read_csv\n"
     ]
    },
    {
     "name": "stdout",
     "output_type": "stream",
     "text": [
      "Se encontraron 30113 registros dentro del polígono para el archivo archivos_homogenizados\\21-31-AGO-2020.csv.\n",
      "Archivo filtrado y guardado: archivos_filtrados\\filtrado_21-31-AGO-2020.csv\n"
     ]
    },
    {
     "name": "stderr",
     "output_type": "stream",
     "text": [
      "C:\\Users\\ricar\\AppData\\Local\\Temp\\ipykernel_66208\\1512343715.py:62: DtypeWarning: Columns (1) have mixed types. Specify dtype option on import or set low_memory=False.\n",
      "  df = pd.read_csv(file_path)  # Asumiendo que existe una función pd.read_csv\n"
     ]
    },
    {
     "name": "stdout",
     "output_type": "stream",
     "text": [
      "Se encontraron 30723 registros dentro del polígono para el archivo archivos_homogenizados\\21-31-DIC-2018.csv.\n",
      "Archivo filtrado y guardado: archivos_filtrados\\filtrado_21-31-DIC-2018.csv\n"
     ]
    },
    {
     "name": "stderr",
     "output_type": "stream",
     "text": [
      "C:\\Users\\ricar\\AppData\\Local\\Temp\\ipykernel_66208\\1512343715.py:62: DtypeWarning: Columns (1) have mixed types. Specify dtype option on import or set low_memory=False.\n",
      "  df = pd.read_csv(file_path)  # Asumiendo que existe una función pd.read_csv\n"
     ]
    },
    {
     "name": "stdout",
     "output_type": "stream",
     "text": [
      "Se encontraron 29859 registros dentro del polígono para el archivo archivos_homogenizados\\21-31-DIC-2019.csv.\n",
      "Archivo filtrado y guardado: archivos_filtrados\\filtrado_21-31-DIC-2019.csv\n"
     ]
    },
    {
     "name": "stderr",
     "output_type": "stream",
     "text": [
      "C:\\Users\\ricar\\AppData\\Local\\Temp\\ipykernel_66208\\1512343715.py:62: DtypeWarning: Columns (1) have mixed types. Specify dtype option on import or set low_memory=False.\n",
      "  df = pd.read_csv(file_path)  # Asumiendo que existe una función pd.read_csv\n"
     ]
    },
    {
     "name": "stdout",
     "output_type": "stream",
     "text": [
      "Se encontraron 52686 registros dentro del polígono para el archivo archivos_homogenizados\\21-31-ENE-2018.csv.\n",
      "Archivo filtrado y guardado: archivos_filtrados\\filtrado_21-31-ENE-2018.csv\n"
     ]
    },
    {
     "name": "stderr",
     "output_type": "stream",
     "text": [
      "C:\\Users\\ricar\\AppData\\Local\\Temp\\ipykernel_66208\\1512343715.py:62: DtypeWarning: Columns (1) have mixed types. Specify dtype option on import or set low_memory=False.\n",
      "  df = pd.read_csv(file_path)  # Asumiendo que existe una función pd.read_csv\n"
     ]
    },
    {
     "name": "stdout",
     "output_type": "stream",
     "text": [
      "Se encontraron 41480 registros dentro del polígono para el archivo archivos_homogenizados\\21-31-ENE-2019.csv.\n",
      "Archivo filtrado y guardado: archivos_filtrados\\filtrado_21-31-ENE-2019.csv\n"
     ]
    },
    {
     "name": "stderr",
     "output_type": "stream",
     "text": [
      "C:\\Users\\ricar\\AppData\\Local\\Temp\\ipykernel_66208\\1512343715.py:62: DtypeWarning: Columns (1) have mixed types. Specify dtype option on import or set low_memory=False.\n",
      "  df = pd.read_csv(file_path)  # Asumiendo que existe una función pd.read_csv\n"
     ]
    },
    {
     "name": "stdout",
     "output_type": "stream",
     "text": [
      "Se encontraron 50849 registros dentro del polígono para el archivo archivos_homogenizados\\21-31-ENE-2020.csv.\n",
      "Archivo filtrado y guardado: archivos_filtrados\\filtrado_21-31-ENE-2020.csv\n"
     ]
    },
    {
     "name": "stderr",
     "output_type": "stream",
     "text": [
      "C:\\Users\\ricar\\AppData\\Local\\Temp\\ipykernel_66208\\1512343715.py:62: DtypeWarning: Columns (1) have mixed types. Specify dtype option on import or set low_memory=False.\n",
      "  df = pd.read_csv(file_path)  # Asumiendo que existe una función pd.read_csv\n"
     ]
    },
    {
     "name": "stdout",
     "output_type": "stream",
     "text": [
      "Se encontraron 32630 registros dentro del polígono para el archivo archivos_homogenizados\\21-31-JUL-2018.csv.\n",
      "Archivo filtrado y guardado: archivos_filtrados\\filtrado_21-31-JUL-2018.csv\n"
     ]
    },
    {
     "name": "stderr",
     "output_type": "stream",
     "text": [
      "C:\\Users\\ricar\\AppData\\Local\\Temp\\ipykernel_66208\\1512343715.py:62: DtypeWarning: Columns (1) have mixed types. Specify dtype option on import or set low_memory=False.\n",
      "  df = pd.read_csv(file_path)  # Asumiendo que existe una función pd.read_csv\n"
     ]
    },
    {
     "name": "stdout",
     "output_type": "stream",
     "text": [
      "Se encontraron 35281 registros dentro del polígono para el archivo archivos_homogenizados\\21-31-JUL-2019.csv.\n",
      "Archivo filtrado y guardado: archivos_filtrados\\filtrado_21-31-JUL-2019.csv\n"
     ]
    },
    {
     "name": "stderr",
     "output_type": "stream",
     "text": [
      "C:\\Users\\ricar\\AppData\\Local\\Temp\\ipykernel_66208\\1512343715.py:62: DtypeWarning: Columns (1) have mixed types. Specify dtype option on import or set low_memory=False.\n",
      "  df = pd.read_csv(file_path)  # Asumiendo que existe una función pd.read_csv\n"
     ]
    },
    {
     "name": "stdout",
     "output_type": "stream",
     "text": [
      "Se encontraron 22989 registros dentro del polígono para el archivo archivos_homogenizados\\21-31-JUL-2020.csv.\n",
      "Archivo filtrado y guardado: archivos_filtrados\\filtrado_21-31-JUL-2020.csv\n"
     ]
    },
    {
     "name": "stderr",
     "output_type": "stream",
     "text": [
      "C:\\Users\\ricar\\AppData\\Local\\Temp\\ipykernel_66208\\1512343715.py:62: DtypeWarning: Columns (1) have mixed types. Specify dtype option on import or set low_memory=False.\n",
      "  df = pd.read_csv(file_path)  # Asumiendo que existe una función pd.read_csv\n"
     ]
    },
    {
     "name": "stdout",
     "output_type": "stream",
     "text": [
      "Se encontraron 43186 registros dentro del polígono para el archivo archivos_homogenizados\\21-31-MAR-2018.csv.\n",
      "Archivo filtrado y guardado: archivos_filtrados\\filtrado_21-31-MAR-2018.csv\n"
     ]
    },
    {
     "name": "stderr",
     "output_type": "stream",
     "text": [
      "C:\\Users\\ricar\\AppData\\Local\\Temp\\ipykernel_66208\\1512343715.py:62: DtypeWarning: Columns (1) have mixed types. Specify dtype option on import or set low_memory=False.\n",
      "  df = pd.read_csv(file_path)  # Asumiendo que existe una función pd.read_csv\n"
     ]
    },
    {
     "name": "stdout",
     "output_type": "stream",
     "text": [
      "Se encontraron 37069 registros dentro del polígono para el archivo archivos_homogenizados\\21-31-MAR-2019.csv.\n",
      "Archivo filtrado y guardado: archivos_filtrados\\filtrado_21-31-MAR-2019.csv\n"
     ]
    },
    {
     "name": "stderr",
     "output_type": "stream",
     "text": [
      "C:\\Users\\ricar\\AppData\\Local\\Temp\\ipykernel_66208\\1512343715.py:62: DtypeWarning: Columns (1) have mixed types. Specify dtype option on import or set low_memory=False.\n",
      "  df = pd.read_csv(file_path)  # Asumiendo que existe una función pd.read_csv\n"
     ]
    },
    {
     "name": "stdout",
     "output_type": "stream",
     "text": [
      "Se encontraron 34900 registros dentro del polígono para el archivo archivos_homogenizados\\21-31-MAR-2020.csv.\n",
      "Archivo filtrado y guardado: archivos_filtrados\\filtrado_21-31-MAR-2020.csv\n"
     ]
    },
    {
     "name": "stderr",
     "output_type": "stream",
     "text": [
      "C:\\Users\\ricar\\AppData\\Local\\Temp\\ipykernel_66208\\1512343715.py:62: DtypeWarning: Columns (1) have mixed types. Specify dtype option on import or set low_memory=False.\n",
      "  df = pd.read_csv(file_path)  # Asumiendo que existe una función pd.read_csv\n"
     ]
    },
    {
     "name": "stdout",
     "output_type": "stream",
     "text": [
      "Se encontraron 59005 registros dentro del polígono para el archivo archivos_homogenizados\\21-31-MAY-2018.csv.\n",
      "Archivo filtrado y guardado: archivos_filtrados\\filtrado_21-31-MAY-2018.csv\n"
     ]
    },
    {
     "name": "stderr",
     "output_type": "stream",
     "text": [
      "C:\\Users\\ricar\\AppData\\Local\\Temp\\ipykernel_66208\\1512343715.py:62: DtypeWarning: Columns (1) have mixed types. Specify dtype option on import or set low_memory=False.\n",
      "  df = pd.read_csv(file_path)  # Asumiendo que existe una función pd.read_csv\n"
     ]
    },
    {
     "name": "stdout",
     "output_type": "stream",
     "text": [
      "Se encontraron 43785 registros dentro del polígono para el archivo archivos_homogenizados\\21-31-MAY-2019.csv.\n",
      "Archivo filtrado y guardado: archivos_filtrados\\filtrado_21-31-MAY-2019.csv\n"
     ]
    },
    {
     "name": "stderr",
     "output_type": "stream",
     "text": [
      "C:\\Users\\ricar\\AppData\\Local\\Temp\\ipykernel_66208\\1512343715.py:62: DtypeWarning: Columns (1) have mixed types. Specify dtype option on import or set low_memory=False.\n",
      "  df = pd.read_csv(file_path)  # Asumiendo que existe una función pd.read_csv\n"
     ]
    },
    {
     "name": "stdout",
     "output_type": "stream",
     "text": [
      "Se encontraron 33557 registros dentro del polígono para el archivo archivos_homogenizados\\21-31-MAY-2020.csv.\n",
      "Archivo filtrado y guardado: archivos_filtrados\\filtrado_21-31-MAY-2020.csv\n"
     ]
    },
    {
     "name": "stderr",
     "output_type": "stream",
     "text": [
      "C:\\Users\\ricar\\AppData\\Local\\Temp\\ipykernel_66208\\1512343715.py:62: DtypeWarning: Columns (1) have mixed types. Specify dtype option on import or set low_memory=False.\n",
      "  df = pd.read_csv(file_path)  # Asumiendo que existe una función pd.read_csv\n"
     ]
    },
    {
     "name": "stdout",
     "output_type": "stream",
     "text": [
      "Se encontraron 30195 registros dentro del polígono para el archivo archivos_homogenizados\\21-31-OCT-2019.csv.\n",
      "Archivo filtrado y guardado: archivos_filtrados\\filtrado_21-31-OCT-2019.csv\n"
     ]
    },
    {
     "name": "stderr",
     "output_type": "stream",
     "text": [
      "C:\\Users\\ricar\\AppData\\Local\\Temp\\ipykernel_66208\\1512343715.py:62: DtypeWarning: Columns (1) have mixed types. Specify dtype option on import or set low_memory=False.\n",
      "  df = pd.read_csv(file_path)  # Asumiendo que existe una función pd.read_csv\n"
     ]
    },
    {
     "name": "stdout",
     "output_type": "stream",
     "text": [
      "Se encontraron 5868 registros dentro del polígono para el archivo archivos_homogenizados\\26-30-SEP-2018.csv.\n",
      "Archivo filtrado y guardado: archivos_filtrados\\filtrado_26-30-SEP-2018.csv\n"
     ]
    },
    {
     "name": "stderr",
     "output_type": "stream",
     "text": [
      "C:\\Users\\ricar\\AppData\\Local\\Temp\\ipykernel_66208\\1512343715.py:62: DtypeWarning: Columns (1) have mixed types. Specify dtype option on import or set low_memory=False.\n",
      "  df = pd.read_csv(file_path)  # Asumiendo que existe una función pd.read_csv\n"
     ]
    },
    {
     "name": "stdout",
     "output_type": "stream",
     "text": [
      "Se encontraron 25611 registros dentro del polígono para el archivo archivos_homogenizados\\26-31-OCT-2018.csv.\n",
      "Archivo filtrado y guardado: archivos_filtrados\\filtrado_26-31-OCT-2018.csv\n",
      "Ocurrió un error al procesar el archivo: Las columnas 'Longitud' y 'Latitud' no se encuentran en el DataFrame.\n"
     ]
    }
   ],
   "source": [
    "archivo_lista_paths = r\"C:\\Users\\ricar\\OneDrive\\Documentos\\Proyectos\\Oceana\\proyecto\\outputs\\lista_de_archivos_vms_homogenizados.csv\"  # Reemplaza con la ruta de tu archivo de entrada\n",
    "carpeta_salida = 'archivos_filtrados'  # Reemplaza con la ruta de tu carpeta de salida\n",
    "\n",
    "archivo_puntos_csv = 'vms_vertices.csv'\n",
    "puntos = leer_puntos_desde_csv(archivo_puntos_csv)\n",
    "\n",
    "filtrar_archivos_por_poligono(archivo_lista_paths, carpeta_salida, puntos)"
   ]
  },
  {
   "cell_type": "code",
   "execution_count": null,
   "metadata": {},
   "outputs": [],
   "source": []
  }
 ],
 "metadata": {
  "kernelspec": {
   "display_name": "pro24",
   "language": "python",
   "name": "python3"
  },
  "language_info": {
   "codemirror_mode": {
    "name": "ipython",
    "version": 3
   },
   "file_extension": ".py",
   "mimetype": "text/x-python",
   "name": "python",
   "nbconvert_exporter": "python",
   "pygments_lexer": "ipython3",
   "version": "3.11.7"
  }
 },
 "nbformat": 4,
 "nbformat_minor": 2
}
